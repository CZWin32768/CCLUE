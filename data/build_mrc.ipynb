{
 "cells": [
  {
   "cell_type": "code",
   "execution_count": 87,
   "id": "824b5352-2a14-4063-ba08-c2f6af0e0e59",
   "metadata": {},
   "outputs": [
    {
     "name": "stdout",
     "output_type": "stream",
     "text": [
      "15425\n",
      "4342\n"
     ]
    }
   ],
   "source": [
    "import pandas as pd\n",
    "import json\n",
    "\n",
    "df = pd.read_csv('./mrc/raw.csv')\n",
    "print(len(df))\n",
    "df = df[df['Type'] == 11]\n",
    "print(len(df))\n",
    "df['label'] = df['Answer'].apply(lambda x: ['A', 'B', 'C', 'D'].index(x))  # 将标签从ABCD转成0123\n",
    "\n",
    "def get_choice(line, index):\n",
    "    choices = eval(line)\n",
    "    if index >= len(choices):\n",
    "        return '不知道'\n",
    "    return choices[index][2:].strip()\n",
    "    \n",
    "\n",
    "for i in range(4):\n",
    "    df[f'choice{i}'] = df['Choices'].apply(lambda x: get_choice(x, i))\n",
    "    \n",
    "del df['Choices'], df['Answer'], df['Type']"
   ]
  },
  {
   "cell_type": "code",
   "execution_count": 93,
   "id": "b1c837eb-9229-4d73-9f2e-d155d202f6c9",
   "metadata": {},
   "outputs": [
    {
     "data": {
      "text/html": [
       "<div>\n",
       "<style scoped>\n",
       "    .dataframe tbody tr th:only-of-type {\n",
       "        vertical-align: middle;\n",
       "    }\n",
       "\n",
       "    .dataframe tbody tr th {\n",
       "        vertical-align: top;\n",
       "    }\n",
       "\n",
       "    .dataframe thead th {\n",
       "        text-align: right;\n",
       "    }\n",
       "</style>\n",
       "<table border=\"1\" class=\"dataframe\">\n",
       "  <thead>\n",
       "    <tr style=\"text-align: right;\">\n",
       "      <th></th>\n",
       "      <th>Unnamed: 0</th>\n",
       "      <th>Question</th>\n",
       "      <th>Q_id</th>\n",
       "      <th>Content</th>\n",
       "      <th>label</th>\n",
       "      <th>choice0</th>\n",
       "      <th>choice1</th>\n",
       "      <th>choice2</th>\n",
       "      <th>choice3</th>\n",
       "    </tr>\n",
       "  </thead>\n",
       "  <tbody>\n",
       "    <tr>\n",
       "      <th>5989</th>\n",
       "      <td>5989</td>\n",
       "      <td>下列对此段内容分析和概括不正确的一项是</td>\n",
       "      <td>266903</td>\n",
       "      <td>于是论次其文。七年而太史公遭李陵之祸，幽於缧绁。乃喟然而叹曰：“是余之罪也夫！是余之罪也夫！...</td>\n",
       "      <td>0</td>\n",
       "      <td>司马迁的感叹表明，他对自己在武帝面前为李陵辩护一事深感后悔。</td>\n",
       "      <td>身毁不用”的叹息 表明，司马迁在遭祸前，还有著述以外的志向。</td>\n",
       "      <td>昔圣先贤发愤著述的故事，给了司马迁以巨大的精神动力。</td>\n",
       "      <td>司马迁列举古圣先贤的事迹，也从一个侧面表明了他想像古圣先贤一样创立不朽业绩。</td>\n",
       "    </tr>\n",
       "    <tr>\n",
       "      <th>859</th>\n",
       "      <td>859</td>\n",
       "      <td>下列词的意义和用法相同的一项是</td>\n",
       "      <td>46201</td>\n",
       "      <td>出师表诸葛亮先帝创业未半而中道崩殂，今天下三分，益州疲弊，此诚危急存亡之秋也。然侍卫之臣不懈...</td>\n",
       "      <td>0</td>\n",
       "      <td>之    恢弘志士之气 醉翁之意不在酒</td>\n",
       "      <td>于    欲报之于陛下也 生于忧患死于安乐</td>\n",
       "      <td>以    先帝不以臣卑鄙 属予作文以记之</td>\n",
       "      <td>则    则攸之、祎、允之任也 然则北通巫峡</td>\n",
       "    </tr>\n",
       "    <tr>\n",
       "      <th>2220</th>\n",
       "      <td>2220</td>\n",
       "      <td>下列的词语，意思相同的一项是</td>\n",
       "      <td>118701</td>\n",
       "      <td>风烟俱净，天山共色。从流飘荡，任意东西。自富阳至桐庐，一百许里，奇山异水，天下独绝。    ...</td>\n",
       "      <td>3</td>\n",
       "      <td>负  负势竞上   至于负者歌于途</td>\n",
       "      <td>绝  天下独绝   猿则百叫无绝</td>\n",
       "      <td>直  争高直指   直视无碍</td>\n",
       "      <td>俱  风烟俱净   湖中人鸟声俱绝</td>\n",
       "    </tr>\n",
       "    <tr>\n",
       "      <th>1230</th>\n",
       "      <td>1230</td>\n",
       "      <td>下列句子中 “以”的用法分类正确的一项是① 皆予之以归 ② 维以卒岁 ③ 师己以实告 ④ 夫...</td>\n",
       "      <td>66301</td>\n",
       "      <td>定公十四年，孔子年五十六，由大司寇行摄相事，有喜色。人曰： “闻君子祸至不惧，福至不喜。 ”...</td>\n",
       "      <td>1</td>\n",
       "      <td>①④ / ②③⑤ / ⑥</td>\n",
       "      <td>①② / ③④⑤ / ⑥</td>\n",
       "      <td>①④ / ②⑤ / ③⑥</td>\n",
       "      <td>①②③ / ④⑤ / ⑥</td>\n",
       "    </tr>\n",
       "    <tr>\n",
       "      <th>36</th>\n",
       "      <td>36</td>\n",
       "      <td>下列对文中“初选人调拟先南曹次考功综核无法吏得缘文为奸选者又不得诉长吏将奏罢南曹辟公舍以待来...</td>\n",
       "      <td>2201</td>\n",
       "      <td>许将字冲元，福州闽人。举进士第一。神宗召对，除集贤校理、同知礼院，编修中书条例。初选人调拟先...</td>\n",
       "      <td>3</td>\n",
       "      <td>初/选人调拟/先南曹/次考功/综核无法/吏的缘文为奸选者/又不得诉长吏/将奏罢南曹/辟公舍以...</td>\n",
       "      <td>初选人调拟/先南曹/次考功/综核无法/吏的缘文为奸选者/又不得诉长吏/将奏罢南曹/辟公舍以待...</td>\n",
       "      <td>初选人调拟/先南曹/次考功/综核无法/吏的缘文为奸/选者又不得诉长吏/将奏罢南曹/辟公舍以待...</td>\n",
       "      <td>初/选人调拟/先南曹/次考功/综核无法/吏的缘文为奸/选者又不得诉长吏/将奏罢南曹/辟公舍以...</td>\n",
       "    </tr>\n",
       "    <tr>\n",
       "      <th>1273</th>\n",
       "      <td>1273</td>\n",
       "      <td>下列各组句子中字意思完全相同的一项是</td>\n",
       "      <td>68801</td>\n",
       "      <td>曹刿论战十年春，齐师伐我。公将战，曹刿请见。其乡人曰：“肉食者谋之，又何间焉？”刿曰：“肉食...</td>\n",
       "      <td>3</td>\n",
       "      <td>间  又何间焉  ②中间力拉崩倒之声</td>\n",
       "      <td>属  忠之属也  ②属引凄异</td>\n",
       "      <td>请  战则请从  ②俟其欣悦，则又请焉</td>\n",
       "      <td>故  故逐之  ②故天将降大任于是人也</td>\n",
       "    </tr>\n",
       "    <tr>\n",
       "      <th>5563</th>\n",
       "      <td>5563</td>\n",
       "      <td>对下列句子中字词解释不正确的一项是</td>\n",
       "      <td>250801</td>\n",
       "      <td>读      （甲）嗟夫！予尝求古仁人之心，或异二者之为。何哉？不以物喜，不以己悲。居庙堂之...</td>\n",
       "      <td>1</td>\n",
       "      <td>予尝求古仁人之心  求：探索</td>\n",
       "      <td>微斯人  微：少</td>\n",
       "      <td>树林阴翳  翳：遮盖</td>\n",
       "      <td>及下船  及：等到。</td>\n",
       "    </tr>\n",
       "    <tr>\n",
       "      <th>13534</th>\n",
       "      <td>13534</td>\n",
       "      <td>下列各组句子中，词的意义和用法都相同的一组是</td>\n",
       "      <td>549702</td>\n",
       "      <td>仲尼之齐，见景公而不见晏子。子贡曰：“见君不见其从政者，可乎？”仲尼曰：“吾闻晏子事三君而顺...</td>\n",
       "      <td>3</td>\n",
       "      <td>①见景公而不见晏子②岸土赤而壁立  而</td>\n",
       "      <td>①以一心事三君②皆以杏仁澄之   以</td>\n",
       "      <td>①婴则齐之世民也②是何楚人之多也   之</td>\n",
       "      <td>①因宰予而谢焉②因其固然，技经肯綮之未尝  因</td>\n",
       "    </tr>\n",
       "    <tr>\n",
       "      <th>900</th>\n",
       "      <td>900</td>\n",
       "      <td>查阅《古汉语常用子字典》“忽”的释义有如下四项。文中：“祸乱生于所忽．”中“忽”的意思是</td>\n",
       "      <td>48201</td>\n",
       "      <td>创业守成孰难上①问侍臣：“创业与守成②孰③难？”房玄龄曰：“草昧④之初，与群雄并起角力而后臣...</td>\n",
       "      <td>3</td>\n",
       "      <td>古代长度单位，尺的百万分之一</td>\n",
       "      <td>快速</td>\n",
       "      <td>辽阔渺茫的样子</td>\n",
       "      <td>不注意，不重视</td>\n",
       "    </tr>\n",
       "    <tr>\n",
       "      <th>11174</th>\n",
       "      <td>11174</td>\n",
       "      <td>（3） 根据原文内容，下列说法不正确的一项是（    ）</td>\n",
       "      <td>459503</td>\n",
       "      <td>《说文解字》：“书，箸也。从聿，者声。”《释名·释书契》：“书，亦言著也，著之简、纸永不灭也...</td>\n",
       "      <td>1</td>\n",
       "      <td>.文字之发明，并不意味着真正意义上的书的诞生。因为文字之发明首先用于记事，若人们尚处于用笔记...</td>\n",
       "      <td>.《诗》、《书》、《礼》的价值意义都是“圣人能及”，在引导人们启迪智慧、提高修养、达到生命的...</td>\n",
       "      <td>.秦汉以前的国学典籍，各具功用，分类别，有层次，有条贯，成体系，且呈动态发展态势。国学学者应...</td>\n",
       "      <td>.书在中国诞生的历程充分说明：书是人类的创造，是文化的载体，是文明的体现，是精神自觉的产物。</td>\n",
       "    </tr>\n",
       "  </tbody>\n",
       "</table>\n",
       "</div>"
      ],
      "text/plain": [
       "       Unnamed: 0                                           Question    Q_id  \\\n",
       "5989         5989                                下列对此段内容分析和概括不正确的一项是  266903   \n",
       "859           859                                    下列词的意义和用法相同的一项是   46201   \n",
       "2220         2220                                     下列的词语，意思相同的一项是  118701   \n",
       "1230         1230  下列句子中 “以”的用法分类正确的一项是① 皆予之以归 ② 维以卒岁 ③ 师己以实告 ④ 夫...   66301   \n",
       "36             36  下列对文中“初选人调拟先南曹次考功综核无法吏得缘文为奸选者又不得诉长吏将奏罢南曹辟公舍以待来...    2201   \n",
       "1273         1273                                 下列各组句子中字意思完全相同的一项是   68801   \n",
       "5563         5563                                  对下列句子中字词解释不正确的一项是  250801   \n",
       "13534       13534                             下列各组句子中，词的意义和用法都相同的一组是  549702   \n",
       "900           900       查阅《古汉语常用子字典》“忽”的释义有如下四项。文中：“祸乱生于所忽．”中“忽”的意思是   48201   \n",
       "11174       11174                       （3） 根据原文内容，下列说法不正确的一项是（    ）  459503   \n",
       "\n",
       "                                                 Content  label  \\\n",
       "5989   于是论次其文。七年而太史公遭李陵之祸，幽於缧绁。乃喟然而叹曰：“是余之罪也夫！是余之罪也夫！...      0   \n",
       "859    出师表诸葛亮先帝创业未半而中道崩殂，今天下三分，益州疲弊，此诚危急存亡之秋也。然侍卫之臣不懈...      0   \n",
       "2220   风烟俱净，天山共色。从流飘荡，任意东西。自富阳至桐庐，一百许里，奇山异水，天下独绝。    ...      3   \n",
       "1230   定公十四年，孔子年五十六，由大司寇行摄相事，有喜色。人曰： “闻君子祸至不惧，福至不喜。 ”...      1   \n",
       "36     许将字冲元，福州闽人。举进士第一。神宗召对，除集贤校理、同知礼院，编修中书条例。初选人调拟先...      3   \n",
       "1273   曹刿论战十年春，齐师伐我。公将战，曹刿请见。其乡人曰：“肉食者谋之，又何间焉？”刿曰：“肉食...      3   \n",
       "5563   读      （甲）嗟夫！予尝求古仁人之心，或异二者之为。何哉？不以物喜，不以己悲。居庙堂之...      1   \n",
       "13534  仲尼之齐，见景公而不见晏子。子贡曰：“见君不见其从政者，可乎？”仲尼曰：“吾闻晏子事三君而顺...      3   \n",
       "900    创业守成孰难上①问侍臣：“创业与守成②孰③难？”房玄龄曰：“草昧④之初，与群雄并起角力而后臣...      3   \n",
       "11174  《说文解字》：“书，箸也。从聿，者声。”《释名·释书契》：“书，亦言著也，著之简、纸永不灭也...      1   \n",
       "\n",
       "                                                 choice0  \\\n",
       "5989                      司马迁的感叹表明，他对自己在武帝面前为李陵辩护一事深感后悔。   \n",
       "859                                  之    恢弘志士之气 醉翁之意不在酒   \n",
       "2220                                   负  负势竞上   至于负者歌于途   \n",
       "1230                                        ①④ / ②③⑤ / ⑥   \n",
       "36     初/选人调拟/先南曹/次考功/综核无法/吏的缘文为奸选者/又不得诉长吏/将奏罢南曹/辟公舍以...   \n",
       "1273                                  间  又何间焉  ②中间力拉崩倒之声   \n",
       "5563                                      予尝求古仁人之心  求：探索   \n",
       "13534                                ①见景公而不见晏子②岸土赤而壁立  而   \n",
       "900                                       古代长度单位，尺的百万分之一   \n",
       "11174  .文字之发明，并不意味着真正意义上的书的诞生。因为文字之发明首先用于记事，若人们尚处于用笔记...   \n",
       "\n",
       "                                                 choice1  \\\n",
       "5989                      身毁不用”的叹息 表明，司马迁在遭祸前，还有著述以外的志向。   \n",
       "859                                于    欲报之于陛下也 生于忧患死于安乐   \n",
       "2220                                    绝  天下独绝   猿则百叫无绝   \n",
       "1230                                        ①② / ③④⑤ / ⑥   \n",
       "36     初选人调拟/先南曹/次考功/综核无法/吏的缘文为奸选者/又不得诉长吏/将奏罢南曹/辟公舍以待...   \n",
       "1273                                      属  忠之属也  ②属引凄异   \n",
       "5563                                            微斯人  微：少   \n",
       "13534                                 ①以一心事三君②皆以杏仁澄之   以   \n",
       "900                                                   快速   \n",
       "11174  .《诗》、《书》、《礼》的价值意义都是“圣人能及”，在引导人们启迪智慧、提高修养、达到生命的...   \n",
       "\n",
       "                                                 choice2  \\\n",
       "5989                          昔圣先贤发愤著述的故事，给了司马迁以巨大的精神动力。   \n",
       "859                                 以    先帝不以臣卑鄙 属予作文以记之   \n",
       "2220                                      直  争高直指   直视无碍   \n",
       "1230                                        ①④ / ②⑤ / ③⑥   \n",
       "36     初选人调拟/先南曹/次考功/综核无法/吏的缘文为奸/选者又不得诉长吏/将奏罢南曹/辟公舍以待...   \n",
       "1273                                 请  战则请从  ②俟其欣悦，则又请焉   \n",
       "5563                                          树林阴翳  翳：遮盖   \n",
       "13534                               ①婴则齐之世民也②是何楚人之多也   之   \n",
       "900                                              辽阔渺茫的样子   \n",
       "11174  .秦汉以前的国学典籍，各具功用，分类别，有层次，有条贯，成体系，且呈动态发展态势。国学学者应...   \n",
       "\n",
       "                                                 choice3  \n",
       "5989              司马迁列举古圣先贤的事迹，也从一个侧面表明了他想像古圣先贤一样创立不朽业绩。  \n",
       "859                               则    则攸之、祎、允之任也 然则北通巫峡  \n",
       "2220                                   俱  风烟俱净   湖中人鸟声俱绝  \n",
       "1230                                        ①②③ / ④⑤ / ⑥  \n",
       "36     初/选人调拟/先南曹/次考功/综核无法/吏的缘文为奸/选者又不得诉长吏/将奏罢南曹/辟公舍以...  \n",
       "1273                                 故  故逐之  ②故天将降大任于是人也  \n",
       "5563                                          及下船  及：等到。  \n",
       "13534                            ①因宰予而谢焉②因其固然，技经肯綮之未尝  因  \n",
       "900                                              不注意，不重视  \n",
       "11174     .书在中国诞生的历程充分说明：书是人类的创造，是文化的载体，是文明的体现，是精神自觉的产物。  "
      ]
     },
     "execution_count": 93,
     "metadata": {},
     "output_type": "execute_result"
    }
   ],
   "source": [
    "df.sample(10)"
   ]
  },
  {
   "cell_type": "code",
   "execution_count": 70,
   "id": "6b43b420-365e-442d-8269-d91c3f7310f3",
   "metadata": {},
   "outputs": [],
   "source": [
    "train_size = int(len(df) * 0.8)\n",
    "dev_size = int(len(df) * 0.1)\n",
    "train_df = df[:train_size]\n",
    "dev_df = df[train_size:train_size + dev_size]\n",
    "test_df = df[train_size + dev_size:]\n"
   ]
  },
  {
   "cell_type": "code",
   "execution_count": 71,
   "id": "5f5c5cb3-c26a-4bb2-b77a-f83f5413a187",
   "metadata": {},
   "outputs": [
    {
     "data": {
      "text/plain": [
       "(3473, 434, 435)"
      ]
     },
     "execution_count": 71,
     "metadata": {},
     "output_type": "execute_result"
    }
   ],
   "source": [
    "len(train_df), len(dev_df), len(test_df)"
   ]
  },
  {
   "cell_type": "code",
   "execution_count": 72,
   "id": "fe953e6d-4226-4b5a-8cf4-10176f9cd34f",
   "metadata": {},
   "outputs": [],
   "source": [
    "train_df.to_csv('./mrc/train.csv', index=False)\n",
    "dev_df.to_csv('./mrc/dev.csv', index=False)\n",
    "test_df.to_csv('./mrc/test.csv', index=False)"
   ]
  },
  {
   "cell_type": "code",
   "execution_count": 74,
   "id": "937b0bb0-deba-4e81-b94d-09da5f496629",
   "metadata": {
    "tags": []
   },
   "outputs": [
    {
     "name": "stdout",
     "output_type": "stream",
     "text": [
      "count     435.000000\n",
      "mean      633.241379\n",
      "std       472.632089\n",
      "min        46.000000\n",
      "25%       302.000000\n",
      "50%       620.000000\n",
      "75%       741.500000\n",
      "max      2657.000000\n",
      "Name: content_len, dtype: float64\n"
     ]
    },
    {
     "data": {
      "image/png": "[encoded data removed]",
      "text/plain": [
       "<Figure size 432x288 with 1 Axes>"
      ]
     },
     "metadata": {
      "needs_background": "light"
     },
     "output_type": "display_data"
    }
   ],
   "source": [
    "import numpy as np\n",
    "import matplotlib.pyplot as plt\n",
    "\n",
    "df['content_len'] = test_df['Content'].apply(len)\n",
    "print(df.content_len.describe())\n",
    "plt.title('content_length')\n",
    "plt.plot(sorted(df.content_len))\n",
    "plt.show()"
   ]
  },
  {
   "cell_type": "code",
   "execution_count": 63,
   "id": "1654b2a3-472d-4cf5-bf39-6fac09d9eed9",
   "metadata": {},
   "outputs": [
    {
     "data": {
      "image/png": "[encoded data removed]",
      "text/plain": [
       "<Figure size 432x288 with 1 Axes>"
      ]
     },
     "metadata": {
      "needs_background": "light"
     },
     "output_type": "display_data"
    }
   ],
   "source": [
    "plt.title('answer') #答案个数，C最多\n",
    "df.label.value_counts().plot.bar()\n",
    "plt.show()"
   ]
  },
  {
   "cell_type": "code",
   "execution_count": 84,
   "id": "9a87e2fc-45ec-456f-932c-af890071b175",
   "metadata": {},
   "outputs": [
    {
     "data": {
      "text/plain": [
       "15241    190.0\n",
       "15246     78.0\n",
       "15247     78.0\n",
       "15248    240.0\n",
       "15249    240.0\n",
       "         ...  \n",
       "15413    785.0\n",
       "15414    785.0\n",
       "15415    785.0\n",
       "15416    878.0\n",
       "15417    878.0\n",
       "Name: content_len, Length: 100, dtype: float64"
      ]
     },
     "execution_count": 84,
     "metadata": {},
     "output_type": "execute_result"
    }
   ],
   "source": [
    "df.content_len[-100:]"
   ]
  },
  {
   "cell_type": "code",
   "execution_count": null,
   "id": "3a965a71-50a0-4231-8a15-d13824a61124",
   "metadata": {},
   "outputs": [],
   "source": []
  }
 ],
 "metadata": {
  "kernelspec": {
   "display_name": "Python 3",
   "language": "python",
   "name": "python3"
  },
  "language_info": {
   "codemirror_mode": {
    "name": "ipython",
    "version": 3
   },
   "file_extension": ".py",
   "mimetype": "text/x-python",
   "name": "python",
   "nbconvert_exporter": "python",
   "pygments_lexer": "ipython3",
   "version": "3.7.4"
  }
 },
 "nbformat": 4,
 "nbformat_minor": 5
}

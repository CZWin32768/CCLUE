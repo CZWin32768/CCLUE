{
 "cells": [
  {
   "cell_type": "code",
   "execution_count": 1,
   "id": "9531cc45-2e85-4340-955f-9e4cefecae0d",
   "metadata": {},
   "outputs": [],
   "source": [
    "import pickle\n",
    "import re\n",
    "from collections import defaultdict, Counter\n",
    "from tqdm.notebook import tqdm\n",
    "import pandas as pd\n",
    "import random\n",
    "from IPython.display import display"
   ]
  },
  {
   "cell_type": "code",
   "execution_count": 2,
   "id": "2bc0d549-7acf-4ce5-a8b0-b147de30d263",
   "metadata": {},
   "outputs": [],
   "source": [
    "with open('data_processed.pkl', 'rb') as f:\n",
    "    data = pickle.load(f)"
   ]
  },
  {
   "cell_type": "code",
   "execution_count": 64,
   "id": "c8920f5b-5c6d-489a-a0f7-4b493f28f738",
   "metadata": {},
   "outputs": [],
   "source": [
    "random.seed('1')\n",
    "dataset = []\n",
    "\n",
    "cats = data.keys()\n",
    "for cat, files in data.items():\n",
    "    all_lines = [line for lines in files.values() for line in lines]\n",
    "    sampled = random.sample(all_lines, 20000)\n",
    "    dataset.extend([(cat, line) for line in sampled])\n",
    "    \n",
    "random.shuffle(dataset)"
   ]
  },
  {
   "cell_type": "code",
   "execution_count": 76,
   "id": "5d5be242-de45-4be2-92d9-a1aae57f7999",
   "metadata": {},
   "outputs": [
    {
     "data": {
      "text/plain": [
       "(200000, ['易藏', '医藏', '艺藏', '史藏', '佛藏', '集藏', '诗藏', '子藏', '儒藏', '道藏'])"
      ]
     },
     "execution_count": 76,
     "metadata": {},
     "output_type": "execute_result"
    }
   ],
   "source": [
    "len(dataset), list(cats)"
   ]
  },
  {
   "cell_type": "code",
   "execution_count": 66,
   "id": "61c3b913-3ebf-49fe-93aa-90ee3d0f5a60",
   "metadata": {},
   "outputs": [
    {
     "data": {
      "text/plain": [
       "[('道藏', '141原本作‘梁’，据《百子全书》改作‘义’。'),\n",
       " ('佛藏', '光本一土木形骸，被汝装饰得金碧辉煌矣。虽可暂悦众目，实则常愧我心也。民廿五'),\n",
       " ('医藏', '阳气初衰，阴气初胜，故寒湿之气及体。阴气未盛，未能深入，故取俞以泻阴邪，取合以虚阳邪，阳气始衰，故取于合。'),\n",
       " ('艺藏', '西神梅：无锡荣文卿植。三瓣短圆，平边，蒲扇式浅兜捧心⑥，刘海舌，“宀”字肩，干长，色绿。虽称为梅，实则水仙门之无上品也。'),\n",
       " ('医藏',\n",
       "  '道之用也，形化气，气化神，神化虚，虚明而万物所以通也。是以古圣人穷通塞之端，得造化之源。忘形以养气，忘气以养神，忘神以养虚，虚实相通是谓大同。故藏之为元精，用之为万灵，舍之为太乙，放之为太清。是以坎离消长于一身，风云发泄于七窍。真气薰蒸而时无寒暑，其纯阳流注而民无死生，是谓神化之道也。'),\n",
       " ('易藏',\n",
       "  '周衰夜明，常星不见；汉失其德，日晕昼昏；女主摄政，遂使纪纲分析；权臣擅威，乃令至柔震动；景藏飞燕，地裂鸣雉，此则后事而星验也。是乃或前事以告祥，或后攻而示罚，莫不若影随形，如声召音。凶谪时至，谴过无差，休应若臻，福善非谬，居远察迩，天高听卑，圣人之言，信其然矣。'),\n",
       " ('易藏',\n",
       "  '京房曰：“天不雨，庙自濡者，其国大饥，人主当之。”《天镜》曰：“人君宫殿门墙润濡，不出一年，狱失囚。”又曰：“宫殿及垣墙无故汁出，如水濯之状，不出八十日，亡国。”《述异记》曰：“宋临王子项在荆州，永光元年，所住庭柘折，栋裂，并自濡，湿汁滴地。明年，被诛。”京房曰：“天不雨而城自濡者，其国大溃乱，相当之。”'),\n",
       " ('集藏',\n",
       "  '如今再说唐卿自送雯青夫人回南之后，不多几天，就奉了着在总理各国事务衙门行走的谕旨，从此每天要上两处衙门，上头又常叫起儿。高中堂、龚尚书新进军机，遇着军国要事，每要请去商量；回得家来，又总是宾客盈门，大有日不暇给的气象。连素爱摩挲的宋、元精椠，黄、顾校文，也只好似荀束袜材，暂置高阁。在自身上看起来，也算得富贵场中的骄子，政治界里的巨灵了。但是国事日糟一日，战局是愈弄愈僵。从他受事到今，两三个月里，水陆处处失败，关隘节节陷落，反觉得忧心如捣，寝馈不安。这日刚在为国焦劳的时候，门上来报闻韵高闻大人要见。'),\n",
       " ('集藏',\n",
       "  '此君气和骨硬，心肠洁净，眼界亦宽，第学问稍有异同处，家弟亟口赞叹，令弟今和倘得携，偕计入都，可得晤谈矣。社友颇参黄杨木禅，非是不聪明，不精神，可惜发卖向诗文草圣中去，一时雨散，关山万里，从此耳根恐遂不闻“性命”二字。熟处愈熟，生处愈生，亦可虑也。谢宛委从塞上来，闲谈二日，稍破寂寞，惜便别去。拙诗数首请正，聊见。'),\n",
       " ('佛藏',\n",
       "  '“是时，萨陀波伦菩萨安隐从三昧觉起，并与五百女人，共至昙无竭宫门外，门外立自念言：‘今我用经法起来，师入在内，我义不可卧、不可坐，须我师来出上高座说般若波罗蜜，尔乃坐耳。’及五百女人亦皆效萨陀波伦菩萨立。')]"
      ]
     },
     "execution_count": 66,
     "metadata": {},
     "output_type": "execute_result"
    }
   ],
   "source": [
    "dataset[:10]"
   ]
  },
  {
   "cell_type": "code",
   "execution_count": 67,
   "id": "24997cf1-791d-4af2-881b-3bcaad112d82",
   "metadata": {},
   "outputs": [
    {
     "data": {
      "text/plain": [
       "(160000, 20000, 20000)"
      ]
     },
     "execution_count": 67,
     "metadata": {},
     "output_type": "execute_result"
    }
   ],
   "source": [
    "examples_num = len(dataset)\n",
    "train_num = int(0.8 * examples_num)\n",
    "dev_num = int(0.1 * examples_num)\n",
    "test_num = int(0.1 * examples_num)\n",
    "\n",
    "train_num, dev_num, test_num"
   ]
  },
  {
   "cell_type": "code",
   "execution_count": 68,
   "id": "f77573be-16b8-4e77-90cc-ff748a5fa0c3",
   "metadata": {},
   "outputs": [],
   "source": [
    "train_set = dataset[:train_num]\n",
    "dev_set = dataset[train_num:train_num + dev_num]\n",
    "test_set = dataset[train_num + dev_num:]"
   ]
  },
  {
   "cell_type": "code",
   "execution_count": 72,
   "id": "f42cd91f-ab8f-4b2d-a4dd-f8d58802d0c8",
   "metadata": {},
   "outputs": [],
   "source": [
    "import csv\n",
    "\n",
    "def save_dataset(data, data_type):\n",
    "    with open(f'text_classification/{data_type}.tsv', 'wt') as f:\n",
    "        writer = csv.writer(f, delimiter='\\t')\n",
    "        writer.writerow(['Label', 'Text'])\n",
    "        for cat, text in data:\n",
    "            writer.writerow([cat, text])\n",
    "            "
   ]
  },
  {
   "cell_type": "code",
   "execution_count": 73,
   "id": "ca9cbd19-56ac-45a8-bed9-bbe472d40332",
   "metadata": {},
   "outputs": [],
   "source": [
    "save_dataset(train_set, 'train')\n",
    "save_dataset(dev_set, 'dev')\n",
    "save_dataset(test_set, 'test')"
   ]
  },
  {
   "cell_type": "code",
   "execution_count": 74,
   "id": "55669163-ae0e-4a0b-9907-4b49e63f7715",
   "metadata": {},
   "outputs": [
    {
     "name": "stdout",
     "output_type": "stream",
     "text": [
      "total 55M\n",
      "-rw-rw-r-- 1 yantan yantan 5.4M 4月  30 15:25 dev.tsv\n",
      "-rw-rw-r-- 1 yantan yantan 5.5M 4月  30 15:25 test.tsv\n",
      "-rw-rw-r-- 1 yantan yantan  44M 4月  30 15:25 train.tsv\n"
     ]
    }
   ],
   "source": [
    "!ls text_classification -lh"
   ]
  },
  {
   "cell_type": "code",
   "execution_count": 10,
   "id": "c0edab8d-524e-4149-a655-c5f8e2ebfbc2",
   "metadata": {},
   "outputs": [],
   "source": [
    "import csv\n",
    "data_type = 'test'\n",
    "\n",
    "with open(f'text_classification/{data_type}.tsv', 'rt') as f:\n",
    "    reader = csv.reader(f, delimiter='\\t')\n",
    "    next(reader)\n",
    "    dataset = list(reader)\n",
    "        "
   ]
  },
  {
   "cell_type": "code",
   "execution_count": 11,
   "id": "41269030-1ba2-4879-ae05-43b32debf4bd",
   "metadata": {},
   "outputs": [],
   "source": [
    "from collections import defaultdict, Counter\n",
    "\n",
    "counter = Counter([l[0] for l in dataset])"
   ]
  },
  {
   "cell_type": "code",
   "execution_count": 12,
   "id": "5054ce65-cb23-4190-a722-6301f96c5f10",
   "metadata": {},
   "outputs": [
    {
     "data": {
      "text/plain": [
       "Counter({'道藏': 2000,\n",
       "         '子藏': 2001,\n",
       "         '易藏': 1914,\n",
       "         '艺藏': 2035,\n",
       "         '佛藏': 2012,\n",
       "         '诗藏': 2016,\n",
       "         '医藏': 2125,\n",
       "         '集藏': 1990,\n",
       "         '儒藏': 1962,\n",
       "         '史藏': 1945})"
      ]
     },
     "execution_count": 12,
     "metadata": {},
     "output_type": "execute_result"
    }
   ],
   "source": [
    "counter"
   ]
  },
  {
   "cell_type": "code",
   "execution_count": null,
   "id": "c9719f30-7a1c-4075-b270-306220caa7a1",
   "metadata": {},
   "outputs": [],
   "source": []
  }
 ],
 "metadata": {
  "kernelspec": {
   "display_name": "Python 3",
   "language": "python",
   "name": "python3"
  },
  "language_info": {
   "codemirror_mode": {
    "name": "ipython",
    "version": 3
   },
   "file_extension": ".py",
   "mimetype": "text/x-python",
   "name": "python",
   "nbconvert_exporter": "python",
   "pygments_lexer": "ipython3",
   "version": "3.7.4"
  }
 },
 "nbformat": 4,
 "nbformat_minor": 5
}

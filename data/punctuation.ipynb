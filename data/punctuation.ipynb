{
 "cells": [
  {
   "cell_type": "code",
   "execution_count": 1,
   "id": "387c91dc-0f22-4bd8-8689-8d9e33913daa",
   "metadata": {},
   "outputs": [],
   "source": [
    "import pickle\n",
    "import re\n",
    "from collections import defaultdict, Counter\n",
    "from tqdm.notebook import tqdm\n",
    "import pandas as pd\n",
    "import random\n",
    "from IPython.display import display"
   ]
  },
  {
   "cell_type": "code",
   "execution_count": 2,
   "id": "860f753c-11d6-4aae-b7c7-8d70f1054318",
   "metadata": {},
   "outputs": [],
   "source": [
    "with open('data_processed.pkl', 'rb') as f:\n",
    "    data = pickle.load(f)"
   ]
  },
  {
   "cell_type": "code",
   "execution_count": 3,
   "id": "e71a33d9-17c3-48c8-9dab-9b65593aa316",
   "metadata": {},
   "outputs": [],
   "source": [
    "path_has_book = set()\n",
    "path_has_quote = set()\n",
    "for cat, files in data.items():\n",
    "    for path, lines in files.items():\n",
    "        text = \"\".join(lines)\n",
    "        quote_cnt = text.count('“') + text.count('”')\n",
    "        book_cnt = text.count('《') + text.count('》')\n",
    "        if quote_cnt > 10:\n",
    "            path_has_quote.add(path)\n",
    "        if book_cnt > 10:\n",
    "            path_has_book.add(path)\n",
    "\n",
    "path_has_quote_book = path_has_book & path_has_quote"
   ]
  },
  {
   "cell_type": "code",
   "execution_count": 28,
   "id": "136b808a-dfcf-4820-b6c5-887ea7ac9fa1",
   "metadata": {
    "scrolled": true,
    "tags": []
   },
   "outputs": [],
   "source": [
    "random.seed('1')\n",
    "dataset_train = defaultdict(dict)\n",
    "dataset_dev = defaultdict(dict)\n",
    "dataset_test = defaultdict(dict)\n",
    "# dev_test_path = set()\n",
    "for cat, files in data.items():\n",
    "    paths = list(files.keys() & path_has_quote_book)\n",
    "    random.shuffle(paths)\n",
    "    size = len(paths)\n",
    "    dev_size = test_size = int(len(paths) * 0.1)\n",
    "    dev_path = paths[:dev_size]\n",
    "    test_path = paths[dev_size:dev_size+test_size]\n",
    "    train_path = paths[dev_size+test_size:]\n",
    "#     dev_test_path |= set(dev_path) | set(test_path)\n",
    "    dataset_dev[cat] = {path: files[path] for path in dev_path}\n",
    "    dataset_test[cat] = {path: files[path] for path in test_path}\n",
    "    dataset_train[cat] = {path: files[path] for path in train_path}\n",
    "\n",
    "# for cat, files in data.items():\n",
    "#     dataset_train[cat] = {path: files[path] for path in files if path not in dev_test_path}\n"
   ]
  },
  {
   "cell_type": "code",
   "execution_count": 29,
   "id": "510ef685-1a5d-49e2-bfbf-99c5b770b1f4",
   "metadata": {},
   "outputs": [],
   "source": [
    "def sampling(lines):\n",
    "    return random.sample(lines, int(len(lines) * 0.07))\n",
    "\n",
    "for cat in data:\n",
    "    dataset_dev[cat] = {path: sampling(dataset_dev[cat][path]) for path in dataset_dev[cat]}\n",
    "    dataset_test[cat] = {path: sampling(dataset_test[cat][path]) for path in dataset_test[cat]}\n",
    "    dataset_train[cat] = {path: sampling(dataset_train[cat][path]) for path in dataset_train[cat]}\n"
   ]
  },
  {
   "cell_type": "code",
   "execution_count": 30,
   "id": "c32378c4-d507-4b48-a535-5294c2c1c680",
   "metadata": {},
   "outputs": [
    {
     "data": {
      "text/html": [
       "<div>\n",
       "<style scoped>\n",
       "    .dataframe tbody tr th:only-of-type {\n",
       "        vertical-align: middle;\n",
       "    }\n",
       "\n",
       "    .dataframe tbody tr th {\n",
       "        vertical-align: top;\n",
       "    }\n",
       "\n",
       "    .dataframe thead th {\n",
       "        text-align: right;\n",
       "    }\n",
       "</style>\n",
       "<table border=\"1\" class=\"dataframe\">\n",
       "  <thead>\n",
       "    <tr style=\"text-align: right;\">\n",
       "      <th></th>\n",
       "      <th>0</th>\n",
       "      <th>1</th>\n",
       "      <th>2</th>\n",
       "      <th>3</th>\n",
       "    </tr>\n",
       "  </thead>\n",
       "  <tbody>\n",
       "    <tr>\n",
       "      <th>0</th>\n",
       "      <td>易藏</td>\n",
       "      <td>41</td>\n",
       "      <td>3228</td>\n",
       "      <td>228514</td>\n",
       "    </tr>\n",
       "    <tr>\n",
       "      <th>1</th>\n",
       "      <td>医藏</td>\n",
       "      <td>137</td>\n",
       "      <td>14533</td>\n",
       "      <td>1282077</td>\n",
       "    </tr>\n",
       "    <tr>\n",
       "      <th>2</th>\n",
       "      <td>艺藏</td>\n",
       "      <td>96</td>\n",
       "      <td>1653</td>\n",
       "      <td>172025</td>\n",
       "    </tr>\n",
       "    <tr>\n",
       "      <th>3</th>\n",
       "      <td>史藏</td>\n",
       "      <td>410</td>\n",
       "      <td>56022</td>\n",
       "      <td>6409469</td>\n",
       "    </tr>\n",
       "    <tr>\n",
       "      <th>4</th>\n",
       "      <td>佛藏</td>\n",
       "      <td>44</td>\n",
       "      <td>3512</td>\n",
       "      <td>340299</td>\n",
       "    </tr>\n",
       "    <tr>\n",
       "      <th>5</th>\n",
       "      <td>集藏</td>\n",
       "      <td>391</td>\n",
       "      <td>51767</td>\n",
       "      <td>6617780</td>\n",
       "    </tr>\n",
       "    <tr>\n",
       "      <th>6</th>\n",
       "      <td>诗藏</td>\n",
       "      <td>227</td>\n",
       "      <td>38378</td>\n",
       "      <td>2108589</td>\n",
       "    </tr>\n",
       "    <tr>\n",
       "      <th>7</th>\n",
       "      <td>子藏</td>\n",
       "      <td>340</td>\n",
       "      <td>20793</td>\n",
       "      <td>2457713</td>\n",
       "    </tr>\n",
       "    <tr>\n",
       "      <th>8</th>\n",
       "      <td>儒藏</td>\n",
       "      <td>96</td>\n",
       "      <td>7795</td>\n",
       "      <td>747188</td>\n",
       "    </tr>\n",
       "    <tr>\n",
       "      <th>9</th>\n",
       "      <td>道藏</td>\n",
       "      <td>65</td>\n",
       "      <td>2596</td>\n",
       "      <td>291888</td>\n",
       "    </tr>\n",
       "  </tbody>\n",
       "</table>\n",
       "</div>"
      ],
      "text/plain": [
       "    0    1      2        3\n",
       "0  易藏   41   3228   228514\n",
       "1  医藏  137  14533  1282077\n",
       "2  艺藏   96   1653   172025\n",
       "3  史藏  410  56022  6409469\n",
       "4  佛藏   44   3512   340299\n",
       "5  集藏  391  51767  6617780\n",
       "6  诗藏  227  38378  2108589\n",
       "7  子藏  340  20793  2457713\n",
       "8  儒藏   96   7795   747188\n",
       "9  道藏   65   2596   291888"
      ]
     },
     "metadata": {},
     "output_type": "display_data"
    },
    {
     "data": {
      "text/plain": [
       "0    易藏医藏艺藏史藏佛藏集藏诗藏子藏儒藏道藏\n",
       "1                    1847\n",
       "2                  200277\n",
       "3                20655542\n",
       "dtype: object"
      ]
     },
     "metadata": {},
     "output_type": "display_data"
    },
    {
     "data": {
      "text/html": [
       "<div>\n",
       "<style scoped>\n",
       "    .dataframe tbody tr th:only-of-type {\n",
       "        vertical-align: middle;\n",
       "    }\n",
       "\n",
       "    .dataframe tbody tr th {\n",
       "        vertical-align: top;\n",
       "    }\n",
       "\n",
       "    .dataframe thead th {\n",
       "        text-align: right;\n",
       "    }\n",
       "</style>\n",
       "<table border=\"1\" class=\"dataframe\">\n",
       "  <thead>\n",
       "    <tr style=\"text-align: right;\">\n",
       "      <th></th>\n",
       "      <th>0</th>\n",
       "      <th>1</th>\n",
       "      <th>2</th>\n",
       "      <th>3</th>\n",
       "    </tr>\n",
       "  </thead>\n",
       "  <tbody>\n",
       "    <tr>\n",
       "      <th>0</th>\n",
       "      <td>易藏</td>\n",
       "      <td>5</td>\n",
       "      <td>538</td>\n",
       "      <td>59535</td>\n",
       "    </tr>\n",
       "    <tr>\n",
       "      <th>1</th>\n",
       "      <td>医藏</td>\n",
       "      <td>16</td>\n",
       "      <td>1075</td>\n",
       "      <td>89826</td>\n",
       "    </tr>\n",
       "    <tr>\n",
       "      <th>2</th>\n",
       "      <td>艺藏</td>\n",
       "      <td>11</td>\n",
       "      <td>125</td>\n",
       "      <td>15859</td>\n",
       "    </tr>\n",
       "    <tr>\n",
       "      <th>3</th>\n",
       "      <td>史藏</td>\n",
       "      <td>51</td>\n",
       "      <td>10137</td>\n",
       "      <td>1028986</td>\n",
       "    </tr>\n",
       "    <tr>\n",
       "      <th>4</th>\n",
       "      <td>佛藏</td>\n",
       "      <td>5</td>\n",
       "      <td>297</td>\n",
       "      <td>28374</td>\n",
       "    </tr>\n",
       "    <tr>\n",
       "      <th>5</th>\n",
       "      <td>集藏</td>\n",
       "      <td>48</td>\n",
       "      <td>7301</td>\n",
       "      <td>1016827</td>\n",
       "    </tr>\n",
       "    <tr>\n",
       "      <th>6</th>\n",
       "      <td>诗藏</td>\n",
       "      <td>28</td>\n",
       "      <td>1184</td>\n",
       "      <td>110339</td>\n",
       "    </tr>\n",
       "    <tr>\n",
       "      <th>7</th>\n",
       "      <td>子藏</td>\n",
       "      <td>42</td>\n",
       "      <td>2365</td>\n",
       "      <td>289506</td>\n",
       "    </tr>\n",
       "    <tr>\n",
       "      <th>8</th>\n",
       "      <td>儒藏</td>\n",
       "      <td>12</td>\n",
       "      <td>1193</td>\n",
       "      <td>141522</td>\n",
       "    </tr>\n",
       "    <tr>\n",
       "      <th>9</th>\n",
       "      <td>道藏</td>\n",
       "      <td>8</td>\n",
       "      <td>651</td>\n",
       "      <td>82304</td>\n",
       "    </tr>\n",
       "  </tbody>\n",
       "</table>\n",
       "</div>"
      ],
      "text/plain": [
       "    0   1      2        3\n",
       "0  易藏   5    538    59535\n",
       "1  医藏  16   1075    89826\n",
       "2  艺藏  11    125    15859\n",
       "3  史藏  51  10137  1028986\n",
       "4  佛藏   5    297    28374\n",
       "5  集藏  48   7301  1016827\n",
       "6  诗藏  28   1184   110339\n",
       "7  子藏  42   2365   289506\n",
       "8  儒藏  12   1193   141522\n",
       "9  道藏   8    651    82304"
      ]
     },
     "metadata": {},
     "output_type": "display_data"
    },
    {
     "data": {
      "text/plain": [
       "0    易藏医藏艺藏史藏佛藏集藏诗藏子藏儒藏道藏\n",
       "1                     226\n",
       "2                   24866\n",
       "3                 2863078\n",
       "dtype: object"
      ]
     },
     "metadata": {},
     "output_type": "display_data"
    },
    {
     "data": {
      "text/html": [
       "<div>\n",
       "<style scoped>\n",
       "    .dataframe tbody tr th:only-of-type {\n",
       "        vertical-align: middle;\n",
       "    }\n",
       "\n",
       "    .dataframe tbody tr th {\n",
       "        vertical-align: top;\n",
       "    }\n",
       "\n",
       "    .dataframe thead th {\n",
       "        text-align: right;\n",
       "    }\n",
       "</style>\n",
       "<table border=\"1\" class=\"dataframe\">\n",
       "  <thead>\n",
       "    <tr style=\"text-align: right;\">\n",
       "      <th></th>\n",
       "      <th>0</th>\n",
       "      <th>1</th>\n",
       "      <th>2</th>\n",
       "      <th>3</th>\n",
       "    </tr>\n",
       "  </thead>\n",
       "  <tbody>\n",
       "    <tr>\n",
       "      <th>0</th>\n",
       "      <td>易藏</td>\n",
       "      <td>5</td>\n",
       "      <td>748</td>\n",
       "      <td>50491</td>\n",
       "    </tr>\n",
       "    <tr>\n",
       "      <th>1</th>\n",
       "      <td>医藏</td>\n",
       "      <td>16</td>\n",
       "      <td>2947</td>\n",
       "      <td>248461</td>\n",
       "    </tr>\n",
       "    <tr>\n",
       "      <th>2</th>\n",
       "      <td>艺藏</td>\n",
       "      <td>11</td>\n",
       "      <td>62</td>\n",
       "      <td>7103</td>\n",
       "    </tr>\n",
       "    <tr>\n",
       "      <th>3</th>\n",
       "      <td>史藏</td>\n",
       "      <td>51</td>\n",
       "      <td>3000</td>\n",
       "      <td>337450</td>\n",
       "    </tr>\n",
       "    <tr>\n",
       "      <th>4</th>\n",
       "      <td>佛藏</td>\n",
       "      <td>5</td>\n",
       "      <td>284</td>\n",
       "      <td>28725</td>\n",
       "    </tr>\n",
       "    <tr>\n",
       "      <th>5</th>\n",
       "      <td>集藏</td>\n",
       "      <td>48</td>\n",
       "      <td>11793</td>\n",
       "      <td>1626736</td>\n",
       "    </tr>\n",
       "    <tr>\n",
       "      <th>6</th>\n",
       "      <td>诗藏</td>\n",
       "      <td>28</td>\n",
       "      <td>1664</td>\n",
       "      <td>160958</td>\n",
       "    </tr>\n",
       "    <tr>\n",
       "      <th>7</th>\n",
       "      <td>子藏</td>\n",
       "      <td>42</td>\n",
       "      <td>2524</td>\n",
       "      <td>287932</td>\n",
       "    </tr>\n",
       "    <tr>\n",
       "      <th>8</th>\n",
       "      <td>儒藏</td>\n",
       "      <td>12</td>\n",
       "      <td>2620</td>\n",
       "      <td>268911</td>\n",
       "    </tr>\n",
       "    <tr>\n",
       "      <th>9</th>\n",
       "      <td>道藏</td>\n",
       "      <td>8</td>\n",
       "      <td>732</td>\n",
       "      <td>62751</td>\n",
       "    </tr>\n",
       "  </tbody>\n",
       "</table>\n",
       "</div>"
      ],
      "text/plain": [
       "    0   1      2        3\n",
       "0  易藏   5    748    50491\n",
       "1  医藏  16   2947   248461\n",
       "2  艺藏  11     62     7103\n",
       "3  史藏  51   3000   337450\n",
       "4  佛藏   5    284    28725\n",
       "5  集藏  48  11793  1626736\n",
       "6  诗藏  28   1664   160958\n",
       "7  子藏  42   2524   287932\n",
       "8  儒藏  12   2620   268911\n",
       "9  道藏   8    732    62751"
      ]
     },
     "metadata": {},
     "output_type": "display_data"
    },
    {
     "data": {
      "text/plain": [
       "0    易藏医藏艺藏史藏佛藏集藏诗藏子藏儒藏道藏\n",
       "1                     226\n",
       "2                   26374\n",
       "3                 3079518\n",
       "dtype: object"
      ]
     },
     "metadata": {},
     "output_type": "display_data"
    }
   ],
   "source": [
    "# Data statistics\n",
    "def data_stat(data):\n",
    "    df = pd.DataFrame([[cat,\n",
    "               len(files),                                                             # 文章数\n",
    "               sum([len(lines) for _, lines in files.items()]),                        # 段落数\n",
    "               sum([sum([len(line) for line in lines])for _, lines in files.items()]), # 字数\n",
    "              ] for cat, files in data.items()])\n",
    "    display(df)\n",
    "    display(df.sum())\n",
    "    \n",
    "data_stat(dataset_train)\n",
    "data_stat(dataset_dev)\n",
    "data_stat(dataset_test)"
   ]
  },
  {
   "cell_type": "code",
   "execution_count": 31,
   "id": "e4eaa7de-b402-491c-8b0b-d61430da30b5",
   "metadata": {
    "tags": []
   },
   "outputs": [
    {
     "data": {
      "text/plain": [
       "['谷 O O O B',\n",
       " '梁 O O O I',\n",
       " '传 O O O I',\n",
       " '曰 B B-: O O',\n",
       " '壅 O O B O',\n",
       " '河 B B-, I O',\n",
       " '三 O O I O',\n",
       " '日 O O I O',\n",
       " '不 O O I O',\n",
       " '流 B B-, I O',\n",
       " '晋 O O I O',\n",
       " '君 O O I O',\n",
       " '率 O O I O',\n",
       " '群 O O I O',\n",
       " '臣 O O I O',\n",
       " '素 O O I O',\n",
       " '服 O O I O',\n",
       " '而 O O I O',\n",
       " '哭 O O I O',\n",
       " '之 B B-, I O',\n",
       " '河 O O I O',\n",
       " '乃 O O I O',\n",
       " '流 B B-. I O',\n",
       " '左 O O O B',\n",
       " '传 O O O I',\n",
       " '曰 B B-: O O',\n",
       " '晋 O O O O',\n",
       " '侯 O O O O',\n",
       " '以 O O O O',\n",
       " '传 O O O O',\n",
       " '召 O O O O',\n",
       " '伯 O O O O',\n",
       " '宗 B B-, O O',\n",
       " '伯 O O O O',\n",
       " '宗 O O O O',\n",
       " '辟 O O O O',\n",
       " '重 O O O O',\n",
       " '曰 B B-: O O',\n",
       " '辟 O O B O',\n",
       " '传 B B-. I O',\n",
       " '重 O O O O',\n",
       " '人 O O O O',\n",
       " '曰 B B-: O O',\n",
       " '待 O O B O',\n",
       " '我 B B-, I O',\n",
       " '不 O O I O',\n",
       " '如 O O I O',\n",
       " '捷 O O I O',\n",
       " '之 O O I O',\n",
       " '速 O O I O',\n",
       " '也 B B-. I O',\n",
       " '问 O O O O',\n",
       " '其 O O O O',\n",
       " '所 B B-, O O',\n",
       " '曰 B B-: O O',\n",
       " '绛 O O B O',\n",
       " '人 O O I O',\n",
       " '也 B B-. I O',\n",
       " '问 O O O O',\n",
       " '绛 O O O O',\n",
       " '事 O O O O',\n",
       " '焉 B B-, O O',\n",
       " '曰 B B-: O O',\n",
       " '梁 O O B O',\n",
       " '山 O O I O',\n",
       " '崩 B B-, I O',\n",
       " '将 O O I O',\n",
       " '召 O O I O',\n",
       " '伯 O O I O',\n",
       " '宗 O O I O',\n",
       " '谋 O O I O',\n",
       " '之 B B-. I O',\n",
       " '问 O O O O',\n",
       " '将 O O O O',\n",
       " '若 O O O O',\n",
       " '之 O O O O',\n",
       " '何 B B-, O O',\n",
       " '曰 B B-: O O',\n",
       " '山 O O B O',\n",
       " '有 O O I O',\n",
       " '朽 O O I O',\n",
       " '坏 O O I O',\n",
       " '而 O O I O',\n",
       " '崩 B B-, I O',\n",
       " '可 O O I O',\n",
       " '若 O O I O',\n",
       " '何 B B-? I O',\n",
       " '国 O O I O',\n",
       " '主 O O I O',\n",
       " '山 O O I O',\n",
       " '川 B B-, I O',\n",
       " '故 O O I O',\n",
       " '山 O O I O',\n",
       " '崩 O O I O',\n",
       " '川 O O I O',\n",
       " '竭 B B-, I O',\n",
       " '君 O O I O',\n",
       " '为 O O I O',\n",
       " '之 O O I O',\n",
       " '不 O O I O',\n",
       " '举 B B-, I O',\n",
       " '降 O O I O',\n",
       " '服 B B-\\\\ I O',\n",
       " '乘 O O I O',\n",
       " '缦 B B-\\\\ I O',\n",
       " '撤 O O I O',\n",
       " '乐 B B-\\\\ I O',\n",
       " '出 O O I O',\n",
       " '次 B B-\\\\ I O',\n",
       " '祝 O O I O',\n",
       " '币 B B-, I O',\n",
       " '史 O O I O',\n",
       " '辞 O O I O',\n",
       " '以 O O I O',\n",
       " '礼 O O I O',\n",
       " '焉 B B-, I O',\n",
       " '其 O O I O',\n",
       " '如 O O I O',\n",
       " '此 O O I O',\n",
       " '而 O O I O',\n",
       " '已 B B-. I O',\n",
       " '虽 O O I O',\n",
       " '伯 O O I O',\n",
       " '宗 O O I O',\n",
       " '若 O O I O',\n",
       " '之 O O I O',\n",
       " '何 B B-? I O']"
      ]
     },
     "execution_count": 31,
     "metadata": {},
     "output_type": "execute_result"
    }
   ],
   "source": [
    "puncs_map = {\n",
    "    '，': 'B-,',\n",
    "    '。': 'B-.',\n",
    "    '？': 'B-?',\n",
    "    '！': 'B-!',\n",
    "    '、': 'B-\\\\',\n",
    "    '：': 'B-:',\n",
    "    '；': 'B-;',\n",
    "}\n",
    "\n",
    "quotes_map = {\n",
    "    '“': 'B',\n",
    "    '”': 'E',\n",
    "    '‘': 'B',\n",
    "    '’': 'E',\n",
    "}\n",
    "\n",
    "books_map = {\n",
    "    '《': 'B',\n",
    "    '》': 'E',\n",
    "    '〈': 'B',\n",
    "    '〉': 'E',\n",
    "}\n",
    "\n",
    "def process_line(line):\n",
    "    tokens = []\n",
    "    seg_labels = []\n",
    "    punc_labels = []\n",
    "    quote_labels = []\n",
    "    book_labels = []\n",
    "    quote_begin = -1\n",
    "    book_begin = -1\n",
    "    for c in line:\n",
    "        if c in puncs_map:\n",
    "            if len(tokens) == 0:\n",
    "                continue\n",
    "            if punc_labels[-1] != 'O':\n",
    "                continue\n",
    "            punc_labels[-1] = puncs_map[c]\n",
    "            seg_labels[-1] = 'B'\n",
    "            continue\n",
    "\n",
    "        if c in quotes_map:\n",
    "            if len(tokens) == 0:\n",
    "                continue\n",
    "            if quotes_map[c] == 'B':\n",
    "                if quote_begin != -1:\n",
    "                    quote_labels[quote_begin:] = ['O'] * (len(quote_labels) - quote_begin)\n",
    "                quote_begin = len(tokens)\n",
    "            if quotes_map[c] == 'E':\n",
    "                quote_begin = -1\n",
    "            continue\n",
    "\n",
    "        if c in books_map:\n",
    "            if books_map[c] == 'B':\n",
    "                if book_begin != -1:\n",
    "                    book_labels[book_begin:] = ['O'] * (len(book_labels) - book_begin)\n",
    "                book_begin = len(tokens)\n",
    "            if books_map[c] == 'E':\n",
    "                book_begin = -1\n",
    "            continue\n",
    "            \n",
    "        punc_labels.append('O')\n",
    "        seg_labels.append('O')\n",
    "\n",
    "        if quote_begin == -1:\n",
    "            quote_labels.append('O')\n",
    "        elif quote_begin == len(tokens):\n",
    "            quote_labels.append('B')\n",
    "        else:\n",
    "            quote_labels.append('I')\n",
    "            \n",
    "        if book_begin == -1:\n",
    "            book_labels.append('O')\n",
    "        elif book_begin == len(tokens):\n",
    "            book_labels.append('B')\n",
    "        else:\n",
    "            book_labels.append('I')\n",
    "        \n",
    "        tokens.append(c)\n",
    "    zipped = zip(tokens, seg_labels, punc_labels, quote_labels, book_labels)\n",
    "    return [' '.join(l) for l in zipped]\n",
    "    \n",
    "test_str = '《谷梁传》曰：“壅河，三日不流，晋君率群臣素服而哭之，河乃流。”《左传》曰：“晋侯以传召伯宗，伯宗辟重曰：‘辟传。’重人曰：‘待我，不如捷之速也。’问其所，曰：‘绛人也。’问绛事焉，曰：‘梁山崩，将召伯宗谋之。’问将若之何，曰：‘山有朽坏而崩，可若何？国主山川，故山崩川竭，君为之不举，降服、乘缦、撤乐、出次、祝币，史辞以礼焉，其如此而已。虽伯宗若之何？”'\n",
    "process_line(test_str)"
   ]
  },
  {
   "cell_type": "code",
   "execution_count": 32,
   "id": "59b1974e-d8b6-44c6-bfef-6a989497018c",
   "metadata": {
    "tags": []
   },
   "outputs": [
    {
     "data": {
      "application/vnd.jupyter.widget-view+json": {
       "model_id": "d66f25509287450f9bbcb0630695dd86",
       "version_major": 2,
       "version_minor": 0
      },
      "text/plain": [
       "HBox(children=(FloatProgress(value=0.0, max=10.0), HTML(value='')))"
      ]
     },
     "metadata": {},
     "output_type": "display_data"
    },
    {
     "data": {
      "application/vnd.jupyter.widget-view+json": {
       "model_id": "",
       "version_major": 2,
       "version_minor": 0
      },
      "text/plain": [
       "HBox(children=(FloatProgress(value=0.0, max=41.0), HTML(value='')))"
      ]
     },
     "metadata": {},
     "output_type": "display_data"
    },
    {
     "data": {
      "application/vnd.jupyter.widget-view+json": {
       "model_id": "",
       "version_major": 2,
       "version_minor": 0
      },
      "text/plain": [
       "HBox(children=(FloatProgress(value=0.0, max=137.0), HTML(value='')))"
      ]
     },
     "metadata": {},
     "output_type": "display_data"
    },
    {
     "data": {
      "application/vnd.jupyter.widget-view+json": {
       "model_id": "",
       "version_major": 2,
       "version_minor": 0
      },
      "text/plain": [
       "HBox(children=(FloatProgress(value=0.0, max=96.0), HTML(value='')))"
      ]
     },
     "metadata": {},
     "output_type": "display_data"
    },
    {
     "data": {
      "application/vnd.jupyter.widget-view+json": {
       "model_id": "",
       "version_major": 2,
       "version_minor": 0
      },
      "text/plain": [
       "HBox(children=(FloatProgress(value=0.0, max=410.0), HTML(value='')))"
      ]
     },
     "metadata": {},
     "output_type": "display_data"
    },
    {
     "data": {
      "application/vnd.jupyter.widget-view+json": {
       "model_id": "",
       "version_major": 2,
       "version_minor": 0
      },
      "text/plain": [
       "HBox(children=(FloatProgress(value=0.0, max=44.0), HTML(value='')))"
      ]
     },
     "metadata": {},
     "output_type": "display_data"
    },
    {
     "data": {
      "application/vnd.jupyter.widget-view+json": {
       "model_id": "",
       "version_major": 2,
       "version_minor": 0
      },
      "text/plain": [
       "HBox(children=(FloatProgress(value=0.0, max=391.0), HTML(value='')))"
      ]
     },
     "metadata": {},
     "output_type": "display_data"
    },
    {
     "data": {
      "application/vnd.jupyter.widget-view+json": {
       "model_id": "",
       "version_major": 2,
       "version_minor": 0
      },
      "text/plain": [
       "HBox(children=(FloatProgress(value=0.0, max=227.0), HTML(value='')))"
      ]
     },
     "metadata": {},
     "output_type": "display_data"
    },
    {
     "data": {
      "application/vnd.jupyter.widget-view+json": {
       "model_id": "",
       "version_major": 2,
       "version_minor": 0
      },
      "text/plain": [
       "HBox(children=(FloatProgress(value=0.0, max=340.0), HTML(value='')))"
      ]
     },
     "metadata": {},
     "output_type": "display_data"
    },
    {
     "data": {
      "application/vnd.jupyter.widget-view+json": {
       "model_id": "",
       "version_major": 2,
       "version_minor": 0
      },
      "text/plain": [
       "HBox(children=(FloatProgress(value=0.0, max=96.0), HTML(value='')))"
      ]
     },
     "metadata": {},
     "output_type": "display_data"
    },
    {
     "data": {
      "application/vnd.jupyter.widget-view+json": {
       "model_id": "",
       "version_major": 2,
       "version_minor": 0
      },
      "text/plain": [
       "HBox(children=(FloatProgress(value=0.0, max=65.0), HTML(value='')))"
      ]
     },
     "metadata": {},
     "output_type": "display_data"
    },
    {
     "name": "stdout",
     "output_type": "stream",
     "text": [
      "\n"
     ]
    }
   ],
   "source": [
    "# 构建训练集 dataset_train\n",
    "result = []\n",
    "for cat, files in tqdm(dataset_train.items()):\n",
    "    for path, lines in tqdm(files.items(), leave=False):\n",
    "        result.append('-DOCSTART- -SEG- -PUNC- '\n",
    "                     + ('-QUOTE- ' if path in path_has_quote else '-X- ')\n",
    "                     + ('-BOOK-' if path in path_has_book else '-X-' ))\n",
    "        result.append('')\n",
    "        \n",
    "        for line in lines:\n",
    "            result.extend(process_line(line))\n",
    "            result.append('')\n",
    "\n",
    "with open('punctuation/train.txt', 'wt') as f:\n",
    "    f.write('\\n'.join(result))"
   ]
  },
  {
   "cell_type": "code",
   "execution_count": 54,
   "id": "e9412494-581c-4d73-9d26-790a81c8289b",
   "metadata": {},
   "outputs": [],
   "source": [
    "!(cd punctuation && tar -czf train.txt.tar.gz train.txt && rm train.txt)"
   ]
  },
  {
   "cell_type": "code",
   "execution_count": 33,
   "id": "4e142dba-8ac4-40e9-8a9d-9a758c7d8051",
   "metadata": {
    "tags": []
   },
   "outputs": [
    {
     "data": {
      "application/vnd.jupyter.widget-view+json": {
       "model_id": "d66e653a61ed400aab2e3005c0484b79",
       "version_major": 2,
       "version_minor": 0
      },
      "text/plain": [
       "HBox(children=(FloatProgress(value=0.0, max=10.0), HTML(value='')))"
      ]
     },
     "metadata": {},
     "output_type": "display_data"
    },
    {
     "name": "stdout",
     "output_type": "stream",
     "text": [
      "\n"
     ]
    },
    {
     "data": {
      "application/vnd.jupyter.widget-view+json": {
       "model_id": "74ef3c94b4c4425da4208d2a425fcb41",
       "version_major": 2,
       "version_minor": 0
      },
      "text/plain": [
       "HBox(children=(FloatProgress(value=0.0, max=10.0), HTML(value='')))"
      ]
     },
     "metadata": {},
     "output_type": "display_data"
    },
    {
     "name": "stdout",
     "output_type": "stream",
     "text": [
      "\n"
     ]
    }
   ],
   "source": [
    "# 构建开发集，测试集\n",
    "def build_dev_test(dataset, dataset_type):\n",
    "    result_all = []\n",
    "    for cat, files in tqdm(dataset.items()):\n",
    "        result = []\n",
    "        for lines in files.values():\n",
    "            result.append('-DOCSTART- -SEG- -PUNC- -QUOTE- -BOOK-')\n",
    "            result.append('')\n",
    "            for line in lines:\n",
    "                result.extend(process_line(line))\n",
    "                result.append('')\n",
    "        result_all.extend(result)\n",
    "        with open(f'punctuation/{cat}.{dataset_type}.txt', 'wt') as f:\n",
    "            f.write('\\n'.join(result))\n",
    "    with open(f'punctuation/all.{dataset_type}.txt', 'wt') as f:\n",
    "        f.write('\\n'.join(result_all))\n",
    "\n",
    "build_dev_test(dataset_dev, 'dev')\n",
    "build_dev_test(dataset_test, 'test')"
   ]
  },
  {
   "cell_type": "code",
   "execution_count": null,
   "id": "7a164063-39c5-41da-8202-634571259ac5",
   "metadata": {},
   "outputs": [],
   "source": []
  }
 ],
 "metadata": {
  "kernelspec": {
   "display_name": "Python 3",
   "language": "python",
   "name": "python3"
  },
  "language_info": {
   "codemirror_mode": {
    "name": "ipython",
    "version": 3
   },
   "file_extension": ".py",
   "mimetype": "text/x-python",
   "name": "python",
   "nbconvert_exporter": "python",
   "pygments_lexer": "ipython3",
   "version": "3.7.4"
  }
 },
 "nbformat": 4,
 "nbformat_minor": 5
}

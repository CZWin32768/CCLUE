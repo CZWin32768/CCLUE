{
 "cells": [
  {
   "cell_type": "code",
   "execution_count": 1,
   "id": "387c91dc-0f22-4bd8-8689-8d9e33913daa",
   "metadata": {},
   "outputs": [],
   "source": [
    "import pickle\n",
    "import re\n",
    "from collections import defaultdict, Counter\n",
    "from tqdm.notebook import tqdm\n",
    "import pandas as pd\n",
    "import random\n",
    "from IPython.display import display"
   ]
  },
  {
   "cell_type": "code",
   "execution_count": 2,
   "id": "860f753c-11d6-4aae-b7c7-8d70f1054318",
   "metadata": {},
   "outputs": [],
   "source": [
    "with open('data_processed.pkl', 'rb') as f:\n",
    "    data = pickle.load(f)"
   ]
  },
  {
   "cell_type": "code",
   "execution_count": 3,
   "id": "e71a33d9-17c3-48c8-9dab-9b65593aa316",
   "metadata": {},
   "outputs": [],
   "source": [
    "path_has_book = set()\n",
    "path_has_quote = set()\n",
    "for cat, files in data.items():\n",
    "    for path, lines in files.items():\n",
    "        text = \"\".join(lines)\n",
    "        quote_cnt = text.count('“') + text.count('”')\n",
    "        book_cnt = text.count('《') + text.count('》')\n",
    "        if quote_cnt > 10:\n",
    "            path_has_quote.add(path)\n",
    "        if book_cnt > 10:\n",
    "            path_has_book.add(path)\n",
    "\n",
    "path_has_quote_book = path_has_book & path_has_quote"
   ]
  },
  {
   "cell_type": "code",
   "execution_count": 4,
   "id": "136b808a-dfcf-4820-b6c5-887ea7ac9fa1",
   "metadata": {
    "scrolled": true,
    "tags": []
   },
   "outputs": [],
   "source": [
    "random.seed('1')\n",
    "dataset_train = defaultdict(dict)\n",
    "dataset_dev = defaultdict(dict)\n",
    "dataset_test = defaultdict(dict)\n",
    "# dev_test_path = set()\n",
    "for cat, files in data.items():\n",
    "    paths = list(files.keys() & path_has_quote_book)\n",
    "    random.shuffle(paths)\n",
    "    size = len(paths)\n",
    "    dev_size = test_size = int(len(paths) * 0.1)\n",
    "    dev_path = paths[:dev_size]\n",
    "    test_path = paths[dev_size:dev_size+test_size]\n",
    "    train_path = paths[dev_size+test_size:]\n",
    "#     dev_test_path |= set(dev_path) | set(test_path)\n",
    "    dataset_dev[cat] = {path: files[path] for path in dev_path}\n",
    "    dataset_test[cat] = {path: files[path] for path in test_path}\n",
    "    dataset_train[cat] = {path: files[path] for path in train_path}\n",
    "\n",
    "# for cat, files in data.items():\n",
    "#     dataset_train[cat] = {path: files[path] for path in files if path not in dev_test_path}\n"
   ]
  },
  {
   "cell_type": "code",
   "execution_count": 5,
   "id": "510ef685-1a5d-49e2-bfbf-99c5b770b1f4",
   "metadata": {},
   "outputs": [],
   "source": [
    "def sampling(lines):\n",
    "    return random.sample(lines, int(len(lines) * 0.01))\n",
    "\n",
    "for cat in data:\n",
    "    dataset_dev[cat] = {path: sampling(dataset_dev[cat][path]) for path in dataset_dev[cat]}\n",
    "    dataset_test[cat] = {path: sampling(dataset_test[cat][path]) for path in dataset_test[cat]}\n",
    "    dataset_train[cat] = {path: sampling(dataset_train[cat][path]) for path in dataset_train[cat]}\n"
   ]
  },
  {
   "cell_type": "code",
   "execution_count": 6,
   "id": "c32378c4-d507-4b48-a535-5294c2c1c680",
   "metadata": {},
   "outputs": [
    {
     "data": {
      "text/html": [
       "<div>\n",
       "<style scoped>\n",
       "    .dataframe tbody tr th:only-of-type {\n",
       "        vertical-align: middle;\n",
       "    }\n",
       "\n",
       "    .dataframe tbody tr th {\n",
       "        vertical-align: top;\n",
       "    }\n",
       "\n",
       "    .dataframe thead th {\n",
       "        text-align: right;\n",
       "    }\n",
       "</style>\n",
       "<table border=\"1\" class=\"dataframe\">\n",
       "  <thead>\n",
       "    <tr style=\"text-align: right;\">\n",
       "      <th></th>\n",
       "      <th>0</th>\n",
       "      <th>1</th>\n",
       "      <th>2</th>\n",
       "      <th>3</th>\n",
       "    </tr>\n",
       "  </thead>\n",
       "  <tbody>\n",
       "    <tr>\n",
       "      <th>0</th>\n",
       "      <td>易藏</td>\n",
       "      <td>41</td>\n",
       "      <td>573</td>\n",
       "      <td>43088</td>\n",
       "    </tr>\n",
       "    <tr>\n",
       "      <th>1</th>\n",
       "      <td>医藏</td>\n",
       "      <td>137</td>\n",
       "      <td>2075</td>\n",
       "      <td>176176</td>\n",
       "    </tr>\n",
       "    <tr>\n",
       "      <th>2</th>\n",
       "      <td>艺藏</td>\n",
       "      <td>96</td>\n",
       "      <td>109</td>\n",
       "      <td>12582</td>\n",
       "    </tr>\n",
       "    <tr>\n",
       "      <th>3</th>\n",
       "      <td>史藏</td>\n",
       "      <td>410</td>\n",
       "      <td>7092</td>\n",
       "      <td>785104</td>\n",
       "    </tr>\n",
       "    <tr>\n",
       "      <th>4</th>\n",
       "      <td>佛藏</td>\n",
       "      <td>44</td>\n",
       "      <td>486</td>\n",
       "      <td>47014</td>\n",
       "    </tr>\n",
       "    <tr>\n",
       "      <th>5</th>\n",
       "      <td>集藏</td>\n",
       "      <td>391</td>\n",
       "      <td>7316</td>\n",
       "      <td>953770</td>\n",
       "    </tr>\n",
       "    <tr>\n",
       "      <th>6</th>\n",
       "      <td>诗藏</td>\n",
       "      <td>227</td>\n",
       "      <td>4629</td>\n",
       "      <td>232277</td>\n",
       "    </tr>\n",
       "    <tr>\n",
       "      <th>7</th>\n",
       "      <td>子藏</td>\n",
       "      <td>340</td>\n",
       "      <td>2869</td>\n",
       "      <td>318214</td>\n",
       "    </tr>\n",
       "    <tr>\n",
       "      <th>8</th>\n",
       "      <td>儒藏</td>\n",
       "      <td>96</td>\n",
       "      <td>1303</td>\n",
       "      <td>127277</td>\n",
       "    </tr>\n",
       "    <tr>\n",
       "      <th>9</th>\n",
       "      <td>道藏</td>\n",
       "      <td>65</td>\n",
       "      <td>483</td>\n",
       "      <td>50724</td>\n",
       "    </tr>\n",
       "  </tbody>\n",
       "</table>\n",
       "</div>"
      ],
      "text/plain": [
       "    0    1     2       3\n",
       "0  易藏   41   573   43088\n",
       "1  医藏  137  2075  176176\n",
       "2  艺藏   96   109   12582\n",
       "3  史藏  410  7092  785104\n",
       "4  佛藏   44   486   47014\n",
       "5  集藏  391  7316  953770\n",
       "6  诗藏  227  4629  232277\n",
       "7  子藏  340  2869  318214\n",
       "8  儒藏   96  1303  127277\n",
       "9  道藏   65   483   50724"
      ]
     },
     "metadata": {},
     "output_type": "display_data"
    },
    {
     "data": {
      "text/plain": [
       "0    易藏医藏艺藏史藏佛藏集藏诗藏子藏儒藏道藏\n",
       "1                    1847\n",
       "2                   26935\n",
       "3                 2746226\n",
       "dtype: object"
      ]
     },
     "metadata": {},
     "output_type": "display_data"
    },
    {
     "data": {
      "text/html": [
       "<div>\n",
       "<style scoped>\n",
       "    .dataframe tbody tr th:only-of-type {\n",
       "        vertical-align: middle;\n",
       "    }\n",
       "\n",
       "    .dataframe tbody tr th {\n",
       "        vertical-align: top;\n",
       "    }\n",
       "\n",
       "    .dataframe thead th {\n",
       "        text-align: right;\n",
       "    }\n",
       "</style>\n",
       "<table border=\"1\" class=\"dataframe\">\n",
       "  <thead>\n",
       "    <tr style=\"text-align: right;\">\n",
       "      <th></th>\n",
       "      <th>0</th>\n",
       "      <th>1</th>\n",
       "      <th>2</th>\n",
       "      <th>3</th>\n",
       "    </tr>\n",
       "  </thead>\n",
       "  <tbody>\n",
       "    <tr>\n",
       "      <th>0</th>\n",
       "      <td>易藏</td>\n",
       "      <td>5</td>\n",
       "      <td>12</td>\n",
       "      <td>1773</td>\n",
       "    </tr>\n",
       "    <tr>\n",
       "      <th>1</th>\n",
       "      <td>医藏</td>\n",
       "      <td>16</td>\n",
       "      <td>235</td>\n",
       "      <td>22496</td>\n",
       "    </tr>\n",
       "    <tr>\n",
       "      <th>2</th>\n",
       "      <td>艺藏</td>\n",
       "      <td>11</td>\n",
       "      <td>88</td>\n",
       "      <td>9482</td>\n",
       "    </tr>\n",
       "    <tr>\n",
       "      <th>3</th>\n",
       "      <td>史藏</td>\n",
       "      <td>51</td>\n",
       "      <td>1380</td>\n",
       "      <td>151351</td>\n",
       "    </tr>\n",
       "    <tr>\n",
       "      <th>4</th>\n",
       "      <td>佛藏</td>\n",
       "      <td>5</td>\n",
       "      <td>48</td>\n",
       "      <td>4798</td>\n",
       "    </tr>\n",
       "    <tr>\n",
       "      <th>5</th>\n",
       "      <td>集藏</td>\n",
       "      <td>48</td>\n",
       "      <td>934</td>\n",
       "      <td>95966</td>\n",
       "    </tr>\n",
       "    <tr>\n",
       "      <th>6</th>\n",
       "      <td>诗藏</td>\n",
       "      <td>28</td>\n",
       "      <td>901</td>\n",
       "      <td>71522</td>\n",
       "    </tr>\n",
       "    <tr>\n",
       "      <th>7</th>\n",
       "      <td>子藏</td>\n",
       "      <td>42</td>\n",
       "      <td>225</td>\n",
       "      <td>29186</td>\n",
       "    </tr>\n",
       "    <tr>\n",
       "      <th>8</th>\n",
       "      <td>儒藏</td>\n",
       "      <td>12</td>\n",
       "      <td>224</td>\n",
       "      <td>22439</td>\n",
       "    </tr>\n",
       "    <tr>\n",
       "      <th>9</th>\n",
       "      <td>道藏</td>\n",
       "      <td>8</td>\n",
       "      <td>28</td>\n",
       "      <td>2424</td>\n",
       "    </tr>\n",
       "  </tbody>\n",
       "</table>\n",
       "</div>"
      ],
      "text/plain": [
       "    0   1     2       3\n",
       "0  易藏   5    12    1773\n",
       "1  医藏  16   235   22496\n",
       "2  艺藏  11    88    9482\n",
       "3  史藏  51  1380  151351\n",
       "4  佛藏   5    48    4798\n",
       "5  集藏  48   934   95966\n",
       "6  诗藏  28   901   71522\n",
       "7  子藏  42   225   29186\n",
       "8  儒藏  12   224   22439\n",
       "9  道藏   8    28    2424"
      ]
     },
     "metadata": {},
     "output_type": "display_data"
    },
    {
     "data": {
      "text/plain": [
       "0    易藏医藏艺藏史藏佛藏集藏诗藏子藏儒藏道藏\n",
       "1                     226\n",
       "2                    4075\n",
       "3                  411437\n",
       "dtype: object"
      ]
     },
     "metadata": {},
     "output_type": "display_data"
    },
    {
     "data": {
      "text/html": [
       "<div>\n",
       "<style scoped>\n",
       "    .dataframe tbody tr th:only-of-type {\n",
       "        vertical-align: middle;\n",
       "    }\n",
       "\n",
       "    .dataframe tbody tr th {\n",
       "        vertical-align: top;\n",
       "    }\n",
       "\n",
       "    .dataframe thead th {\n",
       "        text-align: right;\n",
       "    }\n",
       "</style>\n",
       "<table border=\"1\" class=\"dataframe\">\n",
       "  <thead>\n",
       "    <tr style=\"text-align: right;\">\n",
       "      <th></th>\n",
       "      <th>0</th>\n",
       "      <th>1</th>\n",
       "      <th>2</th>\n",
       "      <th>3</th>\n",
       "    </tr>\n",
       "  </thead>\n",
       "  <tbody>\n",
       "    <tr>\n",
       "      <th>0</th>\n",
       "      <td>易藏</td>\n",
       "      <td>5</td>\n",
       "      <td>36</td>\n",
       "      <td>1652</td>\n",
       "    </tr>\n",
       "    <tr>\n",
       "      <th>1</th>\n",
       "      <td>医藏</td>\n",
       "      <td>16</td>\n",
       "      <td>261</td>\n",
       "      <td>21223</td>\n",
       "    </tr>\n",
       "    <tr>\n",
       "      <th>2</th>\n",
       "      <td>艺藏</td>\n",
       "      <td>11</td>\n",
       "      <td>20</td>\n",
       "      <td>1654</td>\n",
       "    </tr>\n",
       "    <tr>\n",
       "      <th>3</th>\n",
       "      <td>史藏</td>\n",
       "      <td>51</td>\n",
       "      <td>1195</td>\n",
       "      <td>136890</td>\n",
       "    </tr>\n",
       "    <tr>\n",
       "      <th>4</th>\n",
       "      <td>佛藏</td>\n",
       "      <td>5</td>\n",
       "      <td>30</td>\n",
       "      <td>2835</td>\n",
       "    </tr>\n",
       "    <tr>\n",
       "      <th>5</th>\n",
       "      <td>集藏</td>\n",
       "      <td>48</td>\n",
       "      <td>1679</td>\n",
       "      <td>243599</td>\n",
       "    </tr>\n",
       "    <tr>\n",
       "      <th>6</th>\n",
       "      <td>诗藏</td>\n",
       "      <td>28</td>\n",
       "      <td>253</td>\n",
       "      <td>26448</td>\n",
       "    </tr>\n",
       "    <tr>\n",
       "      <th>7</th>\n",
       "      <td>子藏</td>\n",
       "      <td>42</td>\n",
       "      <td>412</td>\n",
       "      <td>57896</td>\n",
       "    </tr>\n",
       "    <tr>\n",
       "      <th>8</th>\n",
       "      <td>儒藏</td>\n",
       "      <td>12</td>\n",
       "      <td>80</td>\n",
       "      <td>8246</td>\n",
       "    </tr>\n",
       "    <tr>\n",
       "      <th>9</th>\n",
       "      <td>道藏</td>\n",
       "      <td>8</td>\n",
       "      <td>26</td>\n",
       "      <td>2752</td>\n",
       "    </tr>\n",
       "  </tbody>\n",
       "</table>\n",
       "</div>"
      ],
      "text/plain": [
       "    0   1     2       3\n",
       "0  易藏   5    36    1652\n",
       "1  医藏  16   261   21223\n",
       "2  艺藏  11    20    1654\n",
       "3  史藏  51  1195  136890\n",
       "4  佛藏   5    30    2835\n",
       "5  集藏  48  1679  243599\n",
       "6  诗藏  28   253   26448\n",
       "7  子藏  42   412   57896\n",
       "8  儒藏  12    80    8246\n",
       "9  道藏   8    26    2752"
      ]
     },
     "metadata": {},
     "output_type": "display_data"
    },
    {
     "data": {
      "text/plain": [
       "0    易藏医藏艺藏史藏佛藏集藏诗藏子藏儒藏道藏\n",
       "1                     226\n",
       "2                    3992\n",
       "3                  503195\n",
       "dtype: object"
      ]
     },
     "metadata": {},
     "output_type": "display_data"
    }
   ],
   "source": [
    "# Data statistics\n",
    "def data_stat(data):\n",
    "    df = pd.DataFrame([[cat,\n",
    "               len(files),                                                             # 文章数\n",
    "               sum([len(lines) for _, lines in files.items()]),                        # 段落数\n",
    "               sum([sum([len(line) for line in lines])for _, lines in files.items()]), # 字数\n",
    "              ] for cat, files in data.items()])\n",
    "    display(df)\n",
    "    display(df.sum())\n",
    "    \n",
    "data_stat(dataset_train)\n",
    "data_stat(dataset_dev)\n",
    "data_stat(dataset_test)"
   ]
  },
  {
   "cell_type": "code",
   "execution_count": 7,
   "id": "e4eaa7de-b402-491c-8b0b-d61430da30b5",
   "metadata": {
    "tags": []
   },
   "outputs": [
    {
     "data": {
      "text/plain": [
       "['谷 O O O B',\n",
       " '梁 O O O I',\n",
       " '传 O O O I',\n",
       " '曰 B B-: O O',\n",
       " '壅 O O B O',\n",
       " '河 B B-, I O',\n",
       " '三 O O I O',\n",
       " '日 O O I O',\n",
       " '不 O O I O',\n",
       " '流 B B-, I O',\n",
       " '晋 O O I O',\n",
       " '君 O O I O',\n",
       " '率 O O I O',\n",
       " '群 O O I O',\n",
       " '臣 O O I O',\n",
       " '素 O O I O',\n",
       " '服 O O I O',\n",
       " '而 O O I O',\n",
       " '哭 O O I O',\n",
       " '之 B B-, I O',\n",
       " '河 O O I O',\n",
       " '乃 O O I O',\n",
       " '流 B B-. I O',\n",
       " '左 O O O B',\n",
       " '传 O O O I',\n",
       " '曰 B B-: O O',\n",
       " '晋 O O O O',\n",
       " '侯 O O O O',\n",
       " '以 O O O O',\n",
       " '传 O O O O',\n",
       " '召 O O O O',\n",
       " '伯 O O O O',\n",
       " '宗 B B-, O O',\n",
       " '伯 O O O O',\n",
       " '宗 O O O O',\n",
       " '辟 O O O O',\n",
       " '重 O O O O',\n",
       " '曰 B B-: O O',\n",
       " '辟 O O B O',\n",
       " '传 B B-. I O',\n",
       " '重 O O O O',\n",
       " '人 O O O O',\n",
       " '曰 B B-: O O',\n",
       " '待 O O B O',\n",
       " '我 B B-, I O',\n",
       " '不 O O I O',\n",
       " '如 O O I O',\n",
       " '捷 O O I O',\n",
       " '之 O O I O',\n",
       " '速 O O I O',\n",
       " '也 B B-. I O',\n",
       " '问 O O O O',\n",
       " '其 O O O O',\n",
       " '所 B B-, O O',\n",
       " '曰 B B-: O O',\n",
       " '绛 O O B O',\n",
       " '人 O O I O',\n",
       " '也 B B-. I O',\n",
       " '问 O O O O',\n",
       " '绛 O O O O',\n",
       " '事 O O O O',\n",
       " '焉 B B-, O O',\n",
       " '曰 B B-: O O',\n",
       " '梁 O O B O',\n",
       " '山 O O I O',\n",
       " '崩 B B-, I O',\n",
       " '将 O O I O',\n",
       " '召 O O I O',\n",
       " '伯 O O I O',\n",
       " '宗 O O I O',\n",
       " '谋 O O I O',\n",
       " '之 B B-. I O',\n",
       " '问 O O O O',\n",
       " '将 O O O O',\n",
       " '若 O O O O',\n",
       " '之 O O O O',\n",
       " '何 B B-, O O',\n",
       " '曰 B B-: O O',\n",
       " '山 O O B O',\n",
       " '有 O O I O',\n",
       " '朽 O O I O',\n",
       " '坏 O O I O',\n",
       " '而 O O I O',\n",
       " '崩 B B-, I O',\n",
       " '可 O O I O',\n",
       " '若 O O I O',\n",
       " '何 B B-? I O',\n",
       " '国 O O I O',\n",
       " '主 O O I O',\n",
       " '山 O O I O',\n",
       " '川 B B-, I O',\n",
       " '故 O O I O',\n",
       " '山 O O I O',\n",
       " '崩 O O I O',\n",
       " '川 O O I O',\n",
       " '竭 B B-, I O',\n",
       " '君 O O I O',\n",
       " '为 O O I O',\n",
       " '之 O O I O',\n",
       " '不 O O I O',\n",
       " '举 B B-, I O',\n",
       " '降 O O I O',\n",
       " '服 B B-\\\\ I O',\n",
       " '乘 O O I O',\n",
       " '缦 B B-\\\\ I O',\n",
       " '撤 O O I O',\n",
       " '乐 B B-\\\\ I O',\n",
       " '出 O O I O',\n",
       " '次 B B-\\\\ I O',\n",
       " '祝 O O I O',\n",
       " '币 B B-, I O',\n",
       " '史 O O I O',\n",
       " '辞 O O I O',\n",
       " '以 O O I O',\n",
       " '礼 O O I O',\n",
       " '焉 B B-, I O',\n",
       " '其 O O I O',\n",
       " '如 O O I O',\n",
       " '此 O O I O',\n",
       " '而 O O I O',\n",
       " '已 B B-. I O',\n",
       " '虽 O O I O',\n",
       " '伯 O O I O',\n",
       " '宗 O O I O',\n",
       " '若 O O I O',\n",
       " '之 O O I O',\n",
       " '何 B B-? I O']"
      ]
     },
     "execution_count": 7,
     "metadata": {},
     "output_type": "execute_result"
    }
   ],
   "source": [
    "puncs_map = {\n",
    "    '，': 'B-,',\n",
    "    '。': 'B-.',\n",
    "    '？': 'B-?',\n",
    "    '！': 'B-!',\n",
    "    '、': 'B-\\\\',\n",
    "    '：': 'B-:',\n",
    "    '；': 'B-;',\n",
    "}\n",
    "\n",
    "quotes_map = {\n",
    "    '“': 'B',\n",
    "    '”': 'E',\n",
    "    '‘': 'B',\n",
    "    '’': 'E',\n",
    "}\n",
    "\n",
    "books_map = {\n",
    "    '《': 'B',\n",
    "    '》': 'E',\n",
    "    '〈': 'B',\n",
    "    '〉': 'E',\n",
    "}\n",
    "\n",
    "def process_line(line):\n",
    "    tokens = []\n",
    "    seg_labels = []\n",
    "    punc_labels = []\n",
    "    quote_labels = []\n",
    "    book_labels = []\n",
    "    quote_begin = -1\n",
    "    book_begin = -1\n",
    "    for c in line:\n",
    "        if c in puncs_map:\n",
    "            if len(tokens) == 0:\n",
    "                continue\n",
    "            if punc_labels[-1] != 'O':\n",
    "                continue\n",
    "            punc_labels[-1] = puncs_map[c]\n",
    "            seg_labels[-1] = 'B'\n",
    "            continue\n",
    "\n",
    "        if c in quotes_map:\n",
    "            if len(tokens) == 0:\n",
    "                continue\n",
    "            if quotes_map[c] == 'B':\n",
    "                if quote_begin != -1:\n",
    "                    quote_labels[quote_begin:] = ['O'] * (len(quote_labels) - quote_begin)\n",
    "                quote_begin = len(tokens)\n",
    "            if quotes_map[c] == 'E':\n",
    "                quote_begin = -1\n",
    "            continue\n",
    "\n",
    "        if c in books_map:\n",
    "            if books_map[c] == 'B':\n",
    "                if book_begin != -1:\n",
    "                    book_labels[book_begin:] = ['O'] * (len(book_labels) - book_begin)\n",
    "                book_begin = len(tokens)\n",
    "            if books_map[c] == 'E':\n",
    "                book_begin = -1\n",
    "            continue\n",
    "            \n",
    "        punc_labels.append('O')\n",
    "        seg_labels.append('O')\n",
    "\n",
    "        if quote_begin == -1:\n",
    "            quote_labels.append('O')\n",
    "        elif quote_begin == len(tokens):\n",
    "            quote_labels.append('B')\n",
    "        else:\n",
    "            quote_labels.append('I')\n",
    "            \n",
    "        if book_begin == -1:\n",
    "            book_labels.append('O')\n",
    "        elif book_begin == len(tokens):\n",
    "            book_labels.append('B')\n",
    "        else:\n",
    "            book_labels.append('I')\n",
    "        \n",
    "        tokens.append(c)\n",
    "    zipped = zip(tokens, seg_labels, punc_labels, quote_labels, book_labels)\n",
    "    return [' '.join(l) for l in zipped]\n",
    "    \n",
    "test_str = '《谷梁传》曰：“壅河，三日不流，晋君率群臣素服而哭之，河乃流。”《左传》曰：“晋侯以传召伯宗，伯宗辟重曰：‘辟传。’重人曰：‘待我，不如捷之速也。’问其所，曰：‘绛人也。’问绛事焉，曰：‘梁山崩，将召伯宗谋之。’问将若之何，曰：‘山有朽坏而崩，可若何？国主山川，故山崩川竭，君为之不举，降服、乘缦、撤乐、出次、祝币，史辞以礼焉，其如此而已。虽伯宗若之何？”'\n",
    "process_line(test_str)"
   ]
  },
  {
   "cell_type": "code",
   "execution_count": 9,
   "id": "59b1974e-d8b6-44c6-bfef-6a989497018c",
   "metadata": {
    "tags": []
   },
   "outputs": [
    {
     "data": {
      "application/vnd.jupyter.widget-view+json": {
       "model_id": "7e6fc656ef194031a110a052e25bfb09",
       "version_major": 2,
       "version_minor": 0
      },
      "text/plain": [
       "  0%|          | 0/10 [00:00<?, ?it/s]"
      ]
     },
     "metadata": {},
     "output_type": "display_data"
    },
    {
     "data": {
      "application/vnd.jupyter.widget-view+json": {
       "model_id": "",
       "version_major": 2,
       "version_minor": 0
      },
      "text/plain": [
       "  0%|          | 0/41 [00:00<?, ?it/s]"
      ]
     },
     "metadata": {},
     "output_type": "display_data"
    },
    {
     "data": {
      "application/vnd.jupyter.widget-view+json": {
       "model_id": "",
       "version_major": 2,
       "version_minor": 0
      },
      "text/plain": [
       "  0%|          | 0/137 [00:00<?, ?it/s]"
      ]
     },
     "metadata": {},
     "output_type": "display_data"
    },
    {
     "data": {
      "application/vnd.jupyter.widget-view+json": {
       "model_id": "",
       "version_major": 2,
       "version_minor": 0
      },
      "text/plain": [
       "  0%|          | 0/96 [00:00<?, ?it/s]"
      ]
     },
     "metadata": {},
     "output_type": "display_data"
    },
    {
     "data": {
      "application/vnd.jupyter.widget-view+json": {
       "model_id": "",
       "version_major": 2,
       "version_minor": 0
      },
      "text/plain": [
       "  0%|          | 0/410 [00:00<?, ?it/s]"
      ]
     },
     "metadata": {},
     "output_type": "display_data"
    },
    {
     "data": {
      "application/vnd.jupyter.widget-view+json": {
       "model_id": "",
       "version_major": 2,
       "version_minor": 0
      },
      "text/plain": [
       "  0%|          | 0/44 [00:00<?, ?it/s]"
      ]
     },
     "metadata": {},
     "output_type": "display_data"
    },
    {
     "data": {
      "application/vnd.jupyter.widget-view+json": {
       "model_id": "",
       "version_major": 2,
       "version_minor": 0
      },
      "text/plain": [
       "  0%|          | 0/391 [00:00<?, ?it/s]"
      ]
     },
     "metadata": {},
     "output_type": "display_data"
    },
    {
     "data": {
      "application/vnd.jupyter.widget-view+json": {
       "model_id": "",
       "version_major": 2,
       "version_minor": 0
      },
      "text/plain": [
       "  0%|          | 0/227 [00:00<?, ?it/s]"
      ]
     },
     "metadata": {},
     "output_type": "display_data"
    },
    {
     "data": {
      "application/vnd.jupyter.widget-view+json": {
       "model_id": "",
       "version_major": 2,
       "version_minor": 0
      },
      "text/plain": [
       "  0%|          | 0/340 [00:00<?, ?it/s]"
      ]
     },
     "metadata": {},
     "output_type": "display_data"
    },
    {
     "data": {
      "application/vnd.jupyter.widget-view+json": {
       "model_id": "",
       "version_major": 2,
       "version_minor": 0
      },
      "text/plain": [
       "  0%|          | 0/96 [00:00<?, ?it/s]"
      ]
     },
     "metadata": {},
     "output_type": "display_data"
    },
    {
     "data": {
      "application/vnd.jupyter.widget-view+json": {
       "model_id": "",
       "version_major": 2,
       "version_minor": 0
      },
      "text/plain": [
       "  0%|          | 0/65 [00:00<?, ?it/s]"
      ]
     },
     "metadata": {},
     "output_type": "display_data"
    }
   ],
   "source": [
    "# 构建训练集 dataset_train\n",
    "result = []\n",
    "for cat, files in tqdm(dataset_train.items()):\n",
    "    for path, lines in tqdm(files.items(), leave=False):\n",
    "        result.append('-DOCSTART- -SEG- -PUNC- '\n",
    "                     + ('-QUOTE- ' if path in path_has_quote else '-X- ')\n",
    "                     + ('-BOOK-' if path in path_has_book else '-X-' ))\n",
    "        result.append('')\n",
    "        \n",
    "        for line in lines:\n",
    "            result.extend(process_line(line))\n",
    "            result.append('')\n",
    "\n",
    "with open('punctuation/train.txt', 'wt') as f:\n",
    "    f.write('\\n'.join(result))"
   ]
  },
  {
   "cell_type": "code",
   "execution_count": 54,
   "id": "e9412494-581c-4d73-9d26-790a81c8289b",
   "metadata": {},
   "outputs": [],
   "source": [
    "!(cd punctuation && tar -czf train.txt.tar.gz train.txt && rm train.txt)"
   ]
  },
  {
   "cell_type": "code",
   "execution_count": 10,
   "id": "4e142dba-8ac4-40e9-8a9d-9a758c7d8051",
   "metadata": {
    "tags": []
   },
   "outputs": [
    {
     "data": {
      "application/vnd.jupyter.widget-view+json": {
       "model_id": "59daf4ef5ae04adeba7176fd0f2a47b5",
       "version_major": 2,
       "version_minor": 0
      },
      "text/plain": [
       "  0%|          | 0/10 [00:00<?, ?it/s]"
      ]
     },
     "metadata": {},
     "output_type": "display_data"
    },
    {
     "data": {
      "application/vnd.jupyter.widget-view+json": {
       "model_id": "277de2172a784ef184a354c5c9c43595",
       "version_major": 2,
       "version_minor": 0
      },
      "text/plain": [
       "  0%|          | 0/10 [00:00<?, ?it/s]"
      ]
     },
     "metadata": {},
     "output_type": "display_data"
    }
   ],
   "source": [
    "# 构建开发集，测试集\n",
    "def build_dev_test(dataset, dataset_type):\n",
    "    result_all = []\n",
    "    for cat, files in tqdm(dataset.items()):\n",
    "        result = []\n",
    "        for lines in files.values():\n",
    "            result.append('-DOCSTART- -SEG- -PUNC- -QUOTE- -BOOK-')\n",
    "            result.append('')\n",
    "            for line in lines:\n",
    "                result.extend(process_line(line))\n",
    "                result.append('')\n",
    "        result_all.extend(result)\n",
    "#         with open(f'punctuation/{cat}.{dataset_type}.txt', 'wt') as f:\n",
    "#             f.write('\\n'.join(result))\n",
    "    with open(f'punctuation/{dataset_type}.txt', 'wt') as f:\n",
    "        f.write('\\n'.join(result_all))\n",
    "\n",
    "build_dev_test(dataset_dev, 'dev')\n",
    "build_dev_test(dataset_test, 'test')"
   ]
  },
  {
   "cell_type": "code",
   "execution_count": null,
   "id": "851f3ae3-c047-4972-b90b-89f6dd65d822",
   "metadata": {},
   "outputs": [],
   "source": []
  }
 ],
 "metadata": {
  "kernelspec": {
   "display_name": "Python 3",
   "language": "python",
   "name": "python3"
  },
  "language_info": {
   "codemirror_mode": {
    "name": "ipython",
    "version": 3
   },
   "file_extension": ".py",
   "mimetype": "text/x-python",
   "name": "python",
   "nbconvert_exporter": "python",
   "pygments_lexer": "ipython3",
   "version": "3.7.4"
  }
 },
 "nbformat": 4,
 "nbformat_minor": 5
}

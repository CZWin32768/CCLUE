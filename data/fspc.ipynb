{
 "cells": [
  {
   "cell_type": "code",
   "execution_count": 141,
   "id": "87af4af6-dae4-43a5-a22d-1123b743dc41",
   "metadata": {},
   "outputs": [],
   "source": [
    "import json\n",
    "\n",
    "dataset1 = []\n",
    "with open('fspc/raw.json', 'rt') as f:\n",
    "    examples = f.read().split('\\n')\n",
    "    data = [json.loads(l) for l in examples if l]\n",
    "    for item in data:\n",
    "        lines = item['poem'].split('|')\n",
    "        setiments = [item['setiments'][f'line{i + 1}'] for i in range(4)]\n",
    "        dataset1.extend(list(zip(lines, setiments)))"
   ]
  },
  {
   "cell_type": "code",
   "execution_count": 154,
   "id": "b8a48e3e-9d8d-4e1e-8361-59fd93ca595b",
   "metadata": {},
   "outputs": [],
   "source": [
    "dataset2 = []\n",
    "with open('fspc/raw.json', 'rt') as f:\n",
    "    examples = f.read().split('\\n')\n",
    "    data = [json.loads(l) for l in examples if l]\n",
    "    for item in data:\n",
    "        line = item['poem']\n",
    "        label = item['setiments']['holistic']\n",
    "        dataset2.append([line, label])"
   ]
  },
  {
   "cell_type": "code",
   "execution_count": 155,
   "id": "e180f411-c936-44a5-9fc8-d2f89cdba3ce",
   "metadata": {},
   "outputs": [],
   "source": [
    "import random\n",
    "\n",
    "dataset = dataset2\n",
    "\n",
    "random.seed(0)\n",
    "random.shuffle(dataset)\n",
    "train_len = int(0.8 * len(dataset))\n",
    "dev_len = int(0.1 * len(dataset))\n",
    "train_dataset = dataset[:train_len]\n",
    "dev_dataset = dataset[train_len:train_len + dev_len]\n",
    "test_dataset = dataset[train_len + dev_len:]"
   ]
  },
  {
   "cell_type": "code",
   "execution_count": 156,
   "id": "f53f622f-de20-412b-af33-91800f920774",
   "metadata": {},
   "outputs": [
    {
     "data": {
      "text/plain": [
       "(4000, 500, 500)"
      ]
     },
     "execution_count": 156,
     "metadata": {},
     "output_type": "execute_result"
    }
   ],
   "source": [
    "len(train_dataset), len(dev_dataset), len(test_dataset)"
   ]
  },
  {
   "cell_type": "code",
   "execution_count": 157,
   "id": "3575d40c-907c-4163-a676-0579f7841188",
   "metadata": {},
   "outputs": [],
   "source": [
    "import csv\n",
    "\n",
    "def write_tsv(data_type, dataset):\n",
    "#     with open(f'fspc/{data_type}.tsv', 'wt') as f:\n",
    "    with open(f'fspc_poem/{data_type}.tsv', 'wt') as f:\n",
    "        writer = csv.writer(f, delimiter='\\t')\n",
    "        writer.writerow(['text', 'label'])\n",
    "        writer.writerows(dataset)\n",
    "\n",
    "write_tsv('train', train_dataset)\n",
    "write_tsv('dev', dev_dataset)\n",
    "write_tsv('test', test_dataset)"
   ]
  },
  {
   "cell_type": "code",
   "execution_count": 158,
   "id": "4f9c9f7c-146d-4b89-922f-5d895711d106",
   "metadata": {},
   "outputs": [
    {
     "data": {
      "text/plain": [
       "[['黯黯雨云晦|骎骎车马繁|唯忧不及见|及见反无言', '2'],\n",
       " ['把君诗卷灯前读|诗尽灯残天未明|眼痛灭灯犹闇坐|逆风吹浪打船声', '4'],\n",
       " ['丙寅元祐初年冬|贺老困寓京尘中|无心炙手权门热|曝背晴阳坐屋东', '3'],\n",
       " ['送客多情难语离|仆夫无情车载脂|平生飘泊知何限|少似新津风雨时', '2'],\n",
       " ['花名何事唤含笑|似笑才情久寂寥|惟有蟠桃能媚客|一枝红映压墙娇', '4'],\n",
       " ['孙陵西曲岸乌纱|知汝凄凉正忆家|人世岂能无聚散|亦逢佳节且吹花', '2'],\n",
       " ['柔橹无声坐钓鱼|浪花飞点翠罗裾|空江日暮无来客|肠断三湘一纸书', '2'],\n",
       " ['结绮临春无处寻|人皆归罪主荒淫|谁知文体伤轻艳|狎客迎逢罪更深', '3'],\n",
       " ['日暮田家远|山中勿久淹|归人须早去|稚子望陶潜', '3'],\n",
       " ['鹊衔高树蝉|危胁缫车响|露腹不曾肥|杀之嗟已往', '2']]"
      ]
     },
     "execution_count": 158,
     "metadata": {},
     "output_type": "execute_result"
    }
   ],
   "source": [
    "random.sample(test_dataset, 10)"
   ]
  },
  {
   "cell_type": "code",
   "execution_count": 159,
   "id": "96c1e5e5-6b40-4d63-a0ce-20899d429b6c",
   "metadata": {},
   "outputs": [],
   "source": [
    "from collections import Counter\n",
    "\n",
    "counter = Counter([l[1] for l in test_dataset])"
   ]
  },
  {
   "cell_type": "code",
   "execution_count": 160,
   "id": "594beab9-0b25-49dc-b69e-6c5eafd2b5cb",
   "metadata": {},
   "outputs": [
    {
     "data": {
      "text/plain": [
       "Counter({'2': 154, '4': 147, '3': 147, '1': 27, '5': 25})"
      ]
     },
     "execution_count": 160,
     "metadata": {},
     "output_type": "execute_result"
    }
   ],
   "source": [
    "counter"
   ]
  },
  {
   "cell_type": "code",
   "execution_count": 102,
   "id": "a7711e20-0749-4299-b597-ac1337e0a1d9",
   "metadata": {},
   "outputs": [
    {
     "data": {
      "text/plain": [
       "4000"
      ]
     },
     "execution_count": 102,
     "metadata": {},
     "output_type": "execute_result"
    }
   ],
   "source": [
    "len(train_dataset)"
   ]
  },
  {
   "cell_type": "code",
   "execution_count": 184,
   "id": "1be8f273-71d5-4ca5-b6f4-2c4426d83187",
   "metadata": {},
   "outputs": [
    {
     "data": {
      "text/plain": [
       "[{'poet': '王维',\n",
       "  'poem': '独在异乡为异客|每逢佳节倍思亲|遥知兄弟登高处|遍插茱萸少一人',\n",
       "  'dynasty': '唐',\n",
       "  'setiments': {'holistic': '2',\n",
       "   'line1': '2',\n",
       "   'line2': '2',\n",
       "   'line3': '3',\n",
       "   'line4': '2'},\n",
       "  'title': '九月九日忆山东兄弟'},\n",
       " {'poet': '王维',\n",
       "  'poem': '独坐幽篁里|弹琴复长啸|深林人不知|明月来相照',\n",
       "  'dynasty': '唐',\n",
       "  'setiments': {'holistic': '3',\n",
       "   'line1': '3',\n",
       "   'line2': '3',\n",
       "   'line3': '3',\n",
       "   'line4': '3'},\n",
       "  'title': '竹里馆'},\n",
       " {'poet': '王维',\n",
       "  'poem': '宿昔朱颜成暮齿|须臾白发变垂髫|一生几许伤心事|不向空门何处销',\n",
       "  'dynasty': '唐',\n",
       "  'setiments': {'holistic': '2',\n",
       "   'line1': '2',\n",
       "   'line2': '2',\n",
       "   'line3': '2',\n",
       "   'line4': '2'},\n",
       "  'title': '叹白发'},\n",
       " {'poet': '王维',\n",
       "  'poem': '朱实山下开|清香寒更发|幸与丛桂花|窗前向秋月',\n",
       "  'dynasty': '唐',\n",
       "  'setiments': {'holistic': '3',\n",
       "   'line1': '3',\n",
       "   'line2': '3',\n",
       "   'line3': '4',\n",
       "   'line4': '3'},\n",
       "  'title': '山茱萸'},\n",
       " {'poet': '王维',\n",
       "  'poem': '送君南浦泪如丝|君向东州使我悲|为报故人憔悴尽|如今不似洛阳时',\n",
       "  'dynasty': '唐',\n",
       "  'setiments': {'holistic': '2',\n",
       "   'line1': '2',\n",
       "   'line2': '1',\n",
       "   'line3': '2',\n",
       "   'line4': '2'},\n",
       "  'title': '齐州送祖二'},\n",
       " {'poet': '王维',\n",
       "  'poem': '野巾传惠好|兹贶重兼金|嘉此幽栖物|能齐隐吏心',\n",
       "  'dynasty': '唐',\n",
       "  'setiments': {'holistic': '4',\n",
       "   'line1': '4',\n",
       "   'line2': '4',\n",
       "   'line3': '4',\n",
       "   'line4': '4'},\n",
       "  'title': '酬贺四赠葛巾之作'},\n",
       " {'poet': '王维',\n",
       "  'poem': '已见寒梅发|复闻啼鸟声|愁心视春草|畏向玉阶生',\n",
       "  'dynasty': '唐',\n",
       "  'setiments': {'holistic': '2',\n",
       "   'line1': '3',\n",
       "   'line2': '3',\n",
       "   'line3': '1',\n",
       "   'line4': '2'},\n",
       "  'title': '杂咏'},\n",
       " {'poet': '王维',\n",
       "  'poem': '万户伤心生野烟|百僚何日更朝天|秋槐叶落空宫里|凝碧池头奏管弦',\n",
       "  'dynasty': '唐',\n",
       "  'setiments': {'holistic': '1',\n",
       "   'line1': '1',\n",
       "   'line2': '1',\n",
       "   'line3': '2',\n",
       "   'line4': '4'},\n",
       "  'title': '菩提寺禁裴迪来相看说逆贼等凝碧池上作音乐供奉人等举声便一时泪下私成口号诵示裴迪'},\n",
       " {'poet': '王维',\n",
       "  'poem': '广武城边逢暮春|汶阳归客泪沾巾|落花寂寂啼山鸟|杨柳青青渡水人',\n",
       "  'dynasty': '唐',\n",
       "  'setiments': {'holistic': '2',\n",
       "   'line1': '2',\n",
       "   'line2': '1',\n",
       "   'line3': '2',\n",
       "   'line4': '3'},\n",
       "  'title': '寒食汜上作'},\n",
       " {'poet': '王维',\n",
       "  'poem': '清浅白沙滩|绿蒲尚堪把|家住水东西|浣纱明月下',\n",
       "  'dynasty': '唐',\n",
       "  'setiments': {'holistic': '4',\n",
       "   'line1': '4',\n",
       "   'line2': '4',\n",
       "   'line3': '3',\n",
       "   'line4': '4'},\n",
       "  'title': '白石滩'},\n",
       " {'poet': '王维',\n",
       "  'poem': '猿吟一何苦|愁朝复悲夕|莫作巫峡声|肠断秋江客',\n",
       "  'dynasty': '唐',\n",
       "  'setiments': {'holistic': '3',\n",
       "   'line1': '2',\n",
       "   'line2': '1',\n",
       "   'line3': '2',\n",
       "   'line4': '1'},\n",
       "  'title': '闻裴秀才迪吟诗因戏赠'},\n",
       " {'poet': '王维',\n",
       "  'poem': '莫以今时宠|能忘旧日恩|看花满眼泪|不共楚王言',\n",
       "  'dynasty': '唐',\n",
       "  'setiments': {'holistic': '1',\n",
       "   'line1': '3',\n",
       "   'line2': '2',\n",
       "   'line3': '1',\n",
       "   'line4': '2'},\n",
       "  'title': '息夫人'},\n",
       " {'poet': '王维',\n",
       "  'poem': '依迟动车马|惆怅出松萝|忍别青山去|其如绿水何',\n",
       "  'dynasty': '唐',\n",
       "  'setiments': {'holistic': '2',\n",
       "   'line1': '3',\n",
       "   'line2': '2',\n",
       "   'line3': '2',\n",
       "   'line4': '2'},\n",
       "  'title': '别辋川别业'},\n",
       " {'poet': '王维',\n",
       "  'poem': '欲笑周文歌宴镐|遥轻汉武乐横汾|岂知玉殿生三秀|讵有铜池出五云',\n",
       "  'dynasty': '唐',\n",
       "  'setiments': {'holistic': '4',\n",
       "   'line1': '4',\n",
       "   'line2': '4',\n",
       "   'line3': '4',\n",
       "   'line4': '4'},\n",
       "  'title': '大同殿柱产玉芝龙池上有庆云神光照殿百官共睹圣恩便赐宴乐敢书即事'},\n",
       " {'poet': '王维',\n",
       "  'poem': '绿树重阴盖四邻|青苔日厚自无尘|科头箕踞长松下|白眼看他世上人',\n",
       "  'dynasty': '唐',\n",
       "  'setiments': {'holistic': '3',\n",
       "   'line1': '3',\n",
       "   'line2': '3',\n",
       "   'line3': '3',\n",
       "   'line4': '3'},\n",
       "  'title': '与卢员外象过崔处士兴宗林亭'}]"
      ]
     },
     "execution_count": 184,
     "metadata": {},
     "output_type": "execute_result"
    }
   ],
   "source": [
    "[d for d in data if d['poet'] == '王维']"
   ]
  },
  {
   "cell_type": "code",
   "execution_count": null,
   "id": "6c2a50e1-707a-4aa7-990e-8101fb826916",
   "metadata": {},
   "outputs": [],
   "source": []
  }
 ],
 "metadata": {
  "kernelspec": {
   "display_name": "Python 3",
   "language": "python",
   "name": "python3"
  },
  "language_info": {
   "codemirror_mode": {
    "name": "ipython",
    "version": 3
   },
   "file_extension": ".py",
   "mimetype": "text/x-python",
   "name": "python",
   "nbconvert_exporter": "python",
   "pygments_lexer": "ipython3",
   "version": "3.7.4"
  }
 },
 "nbformat": 4,
 "nbformat_minor": 5
}

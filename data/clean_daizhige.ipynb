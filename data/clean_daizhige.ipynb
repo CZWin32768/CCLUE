{
 "cells": [
  {
   "cell_type": "code",
   "execution_count": 2,
   "id": "hundred-jones",
   "metadata": {},
   "outputs": [],
   "source": [
    "import os\n",
    "from tqdm.notebook import tqdm\n",
    "from collections import defaultdict, Counter\n",
    "import pandas as pd\n",
    "import random\n",
    "import re\n",
    "import zhconv\n",
    "import pickle\n",
    "import matplotlib.pyplot as plt"
   ]
  },
  {
   "cell_type": "code",
   "execution_count": 3,
   "id": "intermediate-assistant",
   "metadata": {
    "tags": []
   },
   "outputs": [
    {
     "data": {
      "application/vnd.jupyter.widget-view+json": {
       "model_id": "8b335391d2164d5e9b17540c835b539b",
       "version_major": 2,
       "version_minor": 0
      },
      "text/plain": [
       "HBox(children=(FloatProgress(value=0.0, max=10.0), HTML(value='')))"
      ]
     },
     "metadata": {},
     "output_type": "display_data"
    },
    {
     "name": "stdout",
     "output_type": "stream",
     "text": [
      "\n"
     ]
    }
   ],
   "source": [
    "# Load data\n",
    "data = defaultdict(dict)\n",
    "categories = ['易藏', '医藏', '艺藏', '史藏', '佛藏', '集藏', '诗藏', '子藏', '儒藏', '道藏']\n",
    "pat = re.compile('[^\\S\\n]|[（）【】□)(○\\[\\]—…#─■·<>［］}{◎│｜\\-●*〗〖〕〔０]')\n",
    "for cat in tqdm(categories):\n",
    "    for root, dirs, files in os.walk(os.path.join(\"daizhige\", cat)):\n",
    "        for file in files:\n",
    "            if file.endswith('.txt'):\n",
    "                path = os.path.join(root, file)\n",
    "                with open(path) as f:\n",
    "                    text = f.read()\n",
    "                    # 去空格，符号\n",
    "                    text = re.sub(pat, '', text)\n",
    "                    data[cat][path] = text"
   ]
  },
  {
   "cell_type": "code",
   "execution_count": 4,
   "id": "3e955d84-b540-4a5d-bdc1-3a83123fb8d0",
   "metadata": {},
   "outputs": [
    {
     "data": {
      "application/vnd.jupyter.widget-view+json": {
       "model_id": "65fa5e6cf3a04c989ba2b7bfccba1d6f",
       "version_major": 2,
       "version_minor": 0
      },
      "text/plain": [
       "HBox(children=(FloatProgress(value=0.0, max=10.0), HTML(value='')))"
      ]
     },
     "metadata": {},
     "output_type": "display_data"
    },
    {
     "data": {
      "application/vnd.jupyter.widget-view+json": {
       "model_id": "",
       "version_major": 2,
       "version_minor": 0
      },
      "text/plain": [
       "HBox(children=(FloatProgress(value=0.0, max=343.0), HTML(value='')))"
      ]
     },
     "metadata": {},
     "output_type": "display_data"
    },
    {
     "data": {
      "application/vnd.jupyter.widget-view+json": {
       "model_id": "",
       "version_major": 2,
       "version_minor": 0
      },
      "text/plain": [
       "HBox(children=(FloatProgress(value=0.0, max=912.0), HTML(value='')))"
      ]
     },
     "metadata": {},
     "output_type": "display_data"
    },
    {
     "data": {
      "application/vnd.jupyter.widget-view+json": {
       "model_id": "",
       "version_major": 2,
       "version_minor": 0
      },
      "text/plain": [
       "HBox(children=(FloatProgress(value=0.0, max=446.0), HTML(value='')))"
      ]
     },
     "metadata": {},
     "output_type": "display_data"
    },
    {
     "data": {
      "application/vnd.jupyter.widget-view+json": {
       "model_id": "",
       "version_major": 2,
       "version_minor": 0
      },
      "text/plain": [
       "HBox(children=(FloatProgress(value=0.0, max=2043.0), HTML(value='')))"
      ]
     },
     "metadata": {},
     "output_type": "display_data"
    },
    {
     "data": {
      "application/vnd.jupyter.widget-view+json": {
       "model_id": "",
       "version_major": 2,
       "version_minor": 0
      },
      "text/plain": [
       "HBox(children=(FloatProgress(value=0.0, max=5183.0), HTML(value='')))"
      ]
     },
     "metadata": {},
     "output_type": "display_data"
    },
    {
     "data": {
      "application/vnd.jupyter.widget-view+json": {
       "model_id": "",
       "version_major": 2,
       "version_minor": 0
      },
      "text/plain": [
       "HBox(children=(FloatProgress(value=0.0, max=1948.0), HTML(value='')))"
      ]
     },
     "metadata": {},
     "output_type": "display_data"
    },
    {
     "data": {
      "application/vnd.jupyter.widget-view+json": {
       "model_id": "",
       "version_major": 2,
       "version_minor": 0
      },
      "text/plain": [
       "HBox(children=(FloatProgress(value=0.0, max=787.0), HTML(value='')))"
      ]
     },
     "metadata": {},
     "output_type": "display_data"
    },
    {
     "data": {
      "application/vnd.jupyter.widget-view+json": {
       "model_id": "",
       "version_major": 2,
       "version_minor": 0
      },
      "text/plain": [
       "HBox(children=(FloatProgress(value=0.0, max=1463.0), HTML(value='')))"
      ]
     },
     "metadata": {},
     "output_type": "display_data"
    },
    {
     "data": {
      "application/vnd.jupyter.widget-view+json": {
       "model_id": "",
       "version_major": 2,
       "version_minor": 0
      },
      "text/plain": [
       "HBox(children=(FloatProgress(value=0.0, max=908.0), HTML(value='')))"
      ]
     },
     "metadata": {},
     "output_type": "display_data"
    },
    {
     "data": {
      "application/vnd.jupyter.widget-view+json": {
       "model_id": "",
       "version_major": 2,
       "version_minor": 0
      },
      "text/plain": [
       "HBox(children=(FloatProgress(value=0.0, max=1721.0), HTML(value='')))"
      ]
     },
     "metadata": {},
     "output_type": "display_data"
    },
    {
     "name": "stdout",
     "output_type": "stream",
     "text": [
      "\n"
     ]
    }
   ],
   "source": [
    "# 转简体\n",
    "data1 = defaultdict(dict)\n",
    "for cat, files in tqdm(data.items()):\n",
    "    for path, text in tqdm(files.items(), leave=False):\n",
    "        text = zhconv.convert(text, 'zh-hans')\n",
    "        # 拆分多行，去空行\n",
    "        lines = list(filter(lambda l: l, text.split('\\n')))\n",
    "        data1[cat][path] = lines"
   ]
  },
  {
   "cell_type": "code",
   "execution_count": 5,
   "id": "systematic-judgment",
   "metadata": {},
   "outputs": [
    {
     "data": {
      "text/html": [
       "<div>\n",
       "<style scoped>\n",
       "    .dataframe tbody tr th:only-of-type {\n",
       "        vertical-align: middle;\n",
       "    }\n",
       "\n",
       "    .dataframe tbody tr th {\n",
       "        vertical-align: top;\n",
       "    }\n",
       "\n",
       "    .dataframe thead th {\n",
       "        text-align: right;\n",
       "    }\n",
       "</style>\n",
       "<table border=\"1\" class=\"dataframe\">\n",
       "  <thead>\n",
       "    <tr style=\"text-align: right;\">\n",
       "      <th></th>\n",
       "      <th>0</th>\n",
       "      <th>1</th>\n",
       "      <th>2</th>\n",
       "      <th>3</th>\n",
       "    </tr>\n",
       "  </thead>\n",
       "  <tbody>\n",
       "    <tr>\n",
       "      <th>0</th>\n",
       "      <td>易藏</td>\n",
       "      <td>343</td>\n",
       "      <td>455483</td>\n",
       "      <td>32948020</td>\n",
       "    </tr>\n",
       "    <tr>\n",
       "      <th>1</th>\n",
       "      <td>医藏</td>\n",
       "      <td>912</td>\n",
       "      <td>1978931</td>\n",
       "      <td>100362969</td>\n",
       "    </tr>\n",
       "    <tr>\n",
       "      <th>2</th>\n",
       "      <td>艺藏</td>\n",
       "      <td>446</td>\n",
       "      <td>331070</td>\n",
       "      <td>17532147</td>\n",
       "    </tr>\n",
       "    <tr>\n",
       "      <th>3</th>\n",
       "      <td>史藏</td>\n",
       "      <td>2043</td>\n",
       "      <td>5288376</td>\n",
       "      <td>461540625</td>\n",
       "    </tr>\n",
       "    <tr>\n",
       "      <th>4</th>\n",
       "      <td>佛藏</td>\n",
       "      <td>5183</td>\n",
       "      <td>2304645</td>\n",
       "      <td>209847342</td>\n",
       "    </tr>\n",
       "    <tr>\n",
       "      <th>5</th>\n",
       "      <td>集藏</td>\n",
       "      <td>1948</td>\n",
       "      <td>3408070</td>\n",
       "      <td>337045564</td>\n",
       "    </tr>\n",
       "    <tr>\n",
       "      <th>6</th>\n",
       "      <td>诗藏</td>\n",
       "      <td>787</td>\n",
       "      <td>3066151</td>\n",
       "      <td>102871611</td>\n",
       "    </tr>\n",
       "    <tr>\n",
       "      <th>7</th>\n",
       "      <td>子藏</td>\n",
       "      <td>1463</td>\n",
       "      <td>1962567</td>\n",
       "      <td>201681814</td>\n",
       "    </tr>\n",
       "    <tr>\n",
       "      <th>8</th>\n",
       "      <td>儒藏</td>\n",
       "      <td>908</td>\n",
       "      <td>1361897</td>\n",
       "      <td>130134934</td>\n",
       "    </tr>\n",
       "    <tr>\n",
       "      <th>9</th>\n",
       "      <td>道藏</td>\n",
       "      <td>1721</td>\n",
       "      <td>721834</td>\n",
       "      <td>42702238</td>\n",
       "    </tr>\n",
       "  </tbody>\n",
       "</table>\n",
       "</div>"
      ],
      "text/plain": [
       "    0     1        2          3\n",
       "0  易藏   343   455483   32948020\n",
       "1  医藏   912  1978931  100362969\n",
       "2  艺藏   446   331070   17532147\n",
       "3  史藏  2043  5288376  461540625\n",
       "4  佛藏  5183  2304645  209847342\n",
       "5  集藏  1948  3408070  337045564\n",
       "6  诗藏   787  3066151  102871611\n",
       "7  子藏  1463  1962567  201681814\n",
       "8  儒藏   908  1361897  130134934\n",
       "9  道藏  1721   721834   42702238"
      ]
     },
     "metadata": {},
     "output_type": "display_data"
    },
    {
     "data": {
      "text/plain": [
       "0    易藏医藏艺藏史藏佛藏集藏诗藏子藏儒藏道藏\n",
       "1                   15754\n",
       "2                20879024\n",
       "3              1636667264\n",
       "dtype: object"
      ]
     },
     "metadata": {},
     "output_type": "display_data"
    }
   ],
   "source": [
    "# Data statistics\n",
    "def data_stat(data):\n",
    "    df = pd.DataFrame([[cat,\n",
    "               len(files),                                                             # 文章数\n",
    "               sum([len(lines) for _, lines in files.items()]),                        # 段落数\n",
    "               sum([sum([len(line) for line in lines])for _, lines in files.items()]), # 字数\n",
    "              ] for cat, files in data.items()])\n",
    "    display(df)\n",
    "    display(df.sum())\n",
    "\n",
    "data_stat(data1)"
   ]
  },
  {
   "cell_type": "code",
   "execution_count": 6,
   "id": "connected-refrigerator",
   "metadata": {},
   "outputs": [
    {
     "data": {
      "application/vnd.jupyter.widget-view+json": {
       "model_id": "51025bca23d644ad8ef1136b5f331b97",
       "version_major": 2,
       "version_minor": 0
      },
      "text/plain": [
       "HBox(children=(FloatProgress(value=0.0, max=10.0), HTML(value='')))"
      ]
     },
     "metadata": {},
     "output_type": "display_data"
    },
    {
     "name": "stdout",
     "output_type": "stream",
     "text": [
      "\n"
     ]
    }
   ],
   "source": [
    "# filter data has punc\n",
    "data2 = defaultdict(dict)\n",
    "for cat, files in tqdm(data1.items()):\n",
    "    for path, lines in files.items():\n",
    "        filtered_lines = list(filter(lambda l: '。' in l or '.' in l, lines))\n",
    "        if filtered_lines:\n",
    "            data2[cat][path] = filtered_lines"
   ]
  },
  {
   "cell_type": "code",
   "execution_count": 7,
   "id": "hybrid-chick",
   "metadata": {},
   "outputs": [
    {
     "data": {
      "text/html": [
       "<div>\n",
       "<style scoped>\n",
       "    .dataframe tbody tr th:only-of-type {\n",
       "        vertical-align: middle;\n",
       "    }\n",
       "\n",
       "    .dataframe tbody tr th {\n",
       "        vertical-align: top;\n",
       "    }\n",
       "\n",
       "    .dataframe thead th {\n",
       "        text-align: right;\n",
       "    }\n",
       "</style>\n",
       "<table border=\"1\" class=\"dataframe\">\n",
       "  <thead>\n",
       "    <tr style=\"text-align: right;\">\n",
       "      <th></th>\n",
       "      <th>0</th>\n",
       "      <th>1</th>\n",
       "      <th>2</th>\n",
       "      <th>3</th>\n",
       "    </tr>\n",
       "  </thead>\n",
       "  <tbody>\n",
       "    <tr>\n",
       "      <th>0</th>\n",
       "      <td>易藏</td>\n",
       "      <td>162</td>\n",
       "      <td>125907</td>\n",
       "      <td>9329580</td>\n",
       "    </tr>\n",
       "    <tr>\n",
       "      <th>1</th>\n",
       "      <td>医藏</td>\n",
       "      <td>844</td>\n",
       "      <td>1023561</td>\n",
       "      <td>77757835</td>\n",
       "    </tr>\n",
       "    <tr>\n",
       "      <th>2</th>\n",
       "      <td>艺藏</td>\n",
       "      <td>348</td>\n",
       "      <td>47154</td>\n",
       "      <td>4794594</td>\n",
       "    </tr>\n",
       "    <tr>\n",
       "      <th>3</th>\n",
       "      <td>史藏</td>\n",
       "      <td>1380</td>\n",
       "      <td>1782552</td>\n",
       "      <td>228604135</td>\n",
       "    </tr>\n",
       "    <tr>\n",
       "      <th>4</th>\n",
       "      <td>佛藏</td>\n",
       "      <td>5042</td>\n",
       "      <td>1208326</td>\n",
       "      <td>193333481</td>\n",
       "    </tr>\n",
       "    <tr>\n",
       "      <th>5</th>\n",
       "      <td>集藏</td>\n",
       "      <td>853</td>\n",
       "      <td>1018999</td>\n",
       "      <td>165787606</td>\n",
       "    </tr>\n",
       "    <tr>\n",
       "      <th>6</th>\n",
       "      <td>诗藏</td>\n",
       "      <td>600</td>\n",
       "      <td>1523965</td>\n",
       "      <td>58684291</td>\n",
       "    </tr>\n",
       "    <tr>\n",
       "      <th>7</th>\n",
       "      <td>子藏</td>\n",
       "      <td>730</td>\n",
       "      <td>463878</td>\n",
       "      <td>64433945</td>\n",
       "    </tr>\n",
       "    <tr>\n",
       "      <th>8</th>\n",
       "      <td>儒藏</td>\n",
       "      <td>300</td>\n",
       "      <td>303976</td>\n",
       "      <td>29009764</td>\n",
       "    </tr>\n",
       "    <tr>\n",
       "      <th>9</th>\n",
       "      <td>道藏</td>\n",
       "      <td>1683</td>\n",
       "      <td>463366</td>\n",
       "      <td>38200985</td>\n",
       "    </tr>\n",
       "  </tbody>\n",
       "</table>\n",
       "</div>"
      ],
      "text/plain": [
       "    0     1        2          3\n",
       "0  易藏   162   125907    9329580\n",
       "1  医藏   844  1023561   77757835\n",
       "2  艺藏   348    47154    4794594\n",
       "3  史藏  1380  1782552  228604135\n",
       "4  佛藏  5042  1208326  193333481\n",
       "5  集藏   853  1018999  165787606\n",
       "6  诗藏   600  1523965   58684291\n",
       "7  子藏   730   463878   64433945\n",
       "8  儒藏   300   303976   29009764\n",
       "9  道藏  1683   463366   38200985"
      ]
     },
     "metadata": {},
     "output_type": "display_data"
    },
    {
     "data": {
      "text/plain": [
       "0    易藏医藏艺藏史藏佛藏集藏诗藏子藏儒藏道藏\n",
       "1                   11942\n",
       "2                 7961684\n",
       "3               869936216\n",
       "dtype: object"
      ]
     },
     "metadata": {},
     "output_type": "display_data"
    }
   ],
   "source": [
    "data_stat(data2)"
   ]
  },
  {
   "cell_type": "code",
   "execution_count": 9,
   "id": "cc6d14d6-2f72-4870-ae4d-472f08b26729",
   "metadata": {},
   "outputs": [
    {
     "data": {
      "application/vnd.jupyter.widget-view+json": {
       "model_id": "6f812083b09b4c9f819bb60c9ddb8039",
       "version_major": 2,
       "version_minor": 0
      },
      "text/plain": [
       "HBox(children=(FloatProgress(value=0.0, max=10.0), HTML(value='')))"
      ]
     },
     "metadata": {},
     "output_type": "display_data"
    },
    {
     "name": "stdout",
     "output_type": "stream",
     "text": [
      "\n"
     ]
    }
   ],
   "source": [
    "# filter data has punc\n",
    "data3 = defaultdict(dict)\n",
    "for cat, files in tqdm(data2.items()):\n",
    "    for path, lines in files.items():\n",
    "        filtered_lines = list(filter(lambda l: '，' in l, lines))\n",
    "        if filtered_lines:\n",
    "            data3[cat][path] = filtered_lines"
   ]
  },
  {
   "cell_type": "code",
   "execution_count": 10,
   "id": "be3c7f65-d4a4-4340-85d5-b50ecffa57e1",
   "metadata": {},
   "outputs": [
    {
     "data": {
      "text/html": [
       "<div>\n",
       "<style scoped>\n",
       "    .dataframe tbody tr th:only-of-type {\n",
       "        vertical-align: middle;\n",
       "    }\n",
       "\n",
       "    .dataframe tbody tr th {\n",
       "        vertical-align: top;\n",
       "    }\n",
       "\n",
       "    .dataframe thead th {\n",
       "        text-align: right;\n",
       "    }\n",
       "</style>\n",
       "<table border=\"1\" class=\"dataframe\">\n",
       "  <thead>\n",
       "    <tr style=\"text-align: right;\">\n",
       "      <th></th>\n",
       "      <th>0</th>\n",
       "      <th>1</th>\n",
       "      <th>2</th>\n",
       "      <th>3</th>\n",
       "    </tr>\n",
       "  </thead>\n",
       "  <tbody>\n",
       "    <tr>\n",
       "      <th>0</th>\n",
       "      <td>易藏</td>\n",
       "      <td>160</td>\n",
       "      <td>106189</td>\n",
       "      <td>7997957</td>\n",
       "    </tr>\n",
       "    <tr>\n",
       "      <th>1</th>\n",
       "      <td>医藏</td>\n",
       "      <td>781</td>\n",
       "      <td>623182</td>\n",
       "      <td>58398599</td>\n",
       "    </tr>\n",
       "    <tr>\n",
       "      <th>2</th>\n",
       "      <td>艺藏</td>\n",
       "      <td>337</td>\n",
       "      <td>42494</td>\n",
       "      <td>4617519</td>\n",
       "    </tr>\n",
       "    <tr>\n",
       "      <th>3</th>\n",
       "      <td>史藏</td>\n",
       "      <td>1307</td>\n",
       "      <td>1188321</td>\n",
       "      <td>165270376</td>\n",
       "    </tr>\n",
       "    <tr>\n",
       "      <th>4</th>\n",
       "      <td>佛藏</td>\n",
       "      <td>297</td>\n",
       "      <td>201836</td>\n",
       "      <td>21686264</td>\n",
       "    </tr>\n",
       "    <tr>\n",
       "      <th>5</th>\n",
       "      <td>集藏</td>\n",
       "      <td>814</td>\n",
       "      <td>968072</td>\n",
       "      <td>162467022</td>\n",
       "    </tr>\n",
       "    <tr>\n",
       "      <th>6</th>\n",
       "      <td>诗藏</td>\n",
       "      <td>556</td>\n",
       "      <td>1400784</td>\n",
       "      <td>51104148</td>\n",
       "    </tr>\n",
       "    <tr>\n",
       "      <th>7</th>\n",
       "      <td>子藏</td>\n",
       "      <td>712</td>\n",
       "      <td>361084</td>\n",
       "      <td>55148720</td>\n",
       "    </tr>\n",
       "    <tr>\n",
       "      <th>8</th>\n",
       "      <td>儒藏</td>\n",
       "      <td>290</td>\n",
       "      <td>244934</td>\n",
       "      <td>27636781</td>\n",
       "    </tr>\n",
       "    <tr>\n",
       "      <th>9</th>\n",
       "      <td>道藏</td>\n",
       "      <td>1680</td>\n",
       "      <td>402054</td>\n",
       "      <td>37209747</td>\n",
       "    </tr>\n",
       "  </tbody>\n",
       "</table>\n",
       "</div>"
      ],
      "text/plain": [
       "    0     1        2          3\n",
       "0  易藏   160   106189    7997957\n",
       "1  医藏   781   623182   58398599\n",
       "2  艺藏   337    42494    4617519\n",
       "3  史藏  1307  1188321  165270376\n",
       "4  佛藏   297   201836   21686264\n",
       "5  集藏   814   968072  162467022\n",
       "6  诗藏   556  1400784   51104148\n",
       "7  子藏   712   361084   55148720\n",
       "8  儒藏   290   244934   27636781\n",
       "9  道藏  1680   402054   37209747"
      ]
     },
     "metadata": {},
     "output_type": "display_data"
    },
    {
     "data": {
      "text/plain": [
       "0    易藏医藏艺藏史藏佛藏集藏诗藏子藏儒藏道藏\n",
       "1                    6934\n",
       "2                 5538950\n",
       "3               591537133\n",
       "dtype: object"
      ]
     },
     "metadata": {},
     "output_type": "display_data"
    }
   ],
   "source": [
    "data_stat(data3)"
   ]
  },
  {
   "cell_type": "code",
   "execution_count": 11,
   "id": "0dc44bf9-9d89-4e53-a329-358012f0089a",
   "metadata": {},
   "outputs": [],
   "source": [
    "# 符号转换\n",
    "def convert_puncs(line):\n",
    "    if '\"' in line:\n",
    "        line = re.sub(r'\"(.*?)\"', r'“\\1”', line)\n",
    "    if \"'\" in line:\n",
    "        line = re.sub(r\"'(.*?)'\", r'‘\\1’', line)\n",
    "    if '\"' in line:\n",
    "        line = line.replace('\"', '')\n",
    "    if \"'\" in line:\n",
    "        line = line.replace(\"'\", '')\n",
    "    if \"?\" in line:\n",
    "        line = line.replace(\"?\", '？')\n",
    "    if \".\" in line:\n",
    "        line = line.replace(\".\", '。')\n",
    "    if \"!\" in line:\n",
    "        line = line.replace(\"!\", '！')\n",
    "    if \"．\" in line:\n",
    "        line = line.replace(\"．\", '。')\n",
    "    if \",\" in line:\n",
    "        line = line.replace(\",\", '，')\n",
    "    if \"﹖\" in line:\n",
    "        line = line.replace(\"﹖\", '？')\n",
    "    if \"“”\" in line:\n",
    "        line = line.replace(\"“”\", '')\n",
    "    if \"‘’\" in line:\n",
    "        line = line.replace(\"‘’\", '')\n",
    "    if \"《》\" in line:\n",
    "        line = line.replace(\"《》\", '')\n",
    "    if \"〈〉\" in line:\n",
    "        line = line.replace(\"〈〉\", '')\n",
    "    return line\n",
    "\n",
    "data4 = defaultdict(dict)\n",
    "for cat, files in data3.items():\n",
    "    for path, lines in files.items():\n",
    "        lines = list(map(convert_puncs, lines))\n",
    "        data4[cat][path] = lines"
   ]
  },
  {
   "cell_type": "code",
   "execution_count": 12,
   "id": "237dc1a9-1ce8-4e02-87da-b6e93a17f74f",
   "metadata": {},
   "outputs": [
    {
     "data": {
      "application/vnd.jupyter.widget-view+json": {
       "model_id": "6f5c59b2cd494ff7934a5e44c095222b",
       "version_major": 2,
       "version_minor": 0
      },
      "text/plain": [
       "HBox(children=(FloatProgress(value=0.0, max=10.0), HTML(value='')))"
      ]
     },
     "metadata": {},
     "output_type": "display_data"
    },
    {
     "name": "stdout",
     "output_type": "stream",
     "text": [
      "\n"
     ]
    }
   ],
   "source": [
    "# 统计标点符号\n",
    "text = ''\n",
    "for cat, files in tqdm(data4.items()):\n",
    "    for path, lines in files.items():\n",
    "        text += ''.join(lines)\n",
    "        \n",
    "counter = Counter(re.findall('[^\\u4e00-\\u9fa5]', text))"
   ]
  },
  {
   "cell_type": "code",
   "execution_count": 13,
   "id": "301dcef3-4492-4e46-923a-298ed1a5c601",
   "metadata": {},
   "outputs": [
    {
     "data": {
      "text/plain": [
       "[('，', 50286404),\n",
       " ('。', 24723823),\n",
       " ('、', 4479688),\n",
       " ('：', 4349873),\n",
       " ('“', 3573743),\n",
       " ('”', 3507263),\n",
       " ('《', 1520548),\n",
       " ('》', 1518750),\n",
       " ('；', 1457653),\n",
       " ('？', 1365827),\n",
       " ('！', 671426),\n",
       " ('‘', 415327),\n",
       " ('’', 412882),\n",
       " ('1', 51792),\n",
       " ('2', 32755),\n",
       " ('〈', 27672),\n",
       " ('〉', 27543),\n",
       " ('3', 24574),\n",
       " ('4', 21681),\n",
       " ('6', 18288)]"
      ]
     },
     "execution_count": 13,
     "metadata": {},
     "output_type": "execute_result"
    }
   ],
   "source": [
    "# 最多的标点符号\n",
    "counter.most_common(20)"
   ]
  },
  {
   "cell_type": "code",
   "execution_count": 14,
   "id": "098279a3-1719-49ba-b5c2-f81076782dff",
   "metadata": {},
   "outputs": [
    {
     "data": {
      "application/vnd.jupyter.widget-view+json": {
       "model_id": "02fc3a42b3154c5d8b1fe74dbf21e6c0",
       "version_major": 2,
       "version_minor": 0
      },
      "text/plain": [
       "HBox(children=(FloatProgress(value=0.0, max=10.0), HTML(value='')))"
      ]
     },
     "metadata": {},
     "output_type": "display_data"
    },
    {
     "name": "stdout",
     "output_type": "stream",
     "text": [
      "\n"
     ]
    }
   ],
   "source": [
    "# 拆分长句\n",
    "max_len = 256\n",
    "illegle = []\n",
    "data5 = defaultdict(dict)\n",
    "for cat, files in tqdm(data4.items()):\n",
    "    for path, lines in files.items():\n",
    "        result = []\n",
    "        for line in lines:\n",
    "            while len(line) > max_len:\n",
    "                for punc in '。？；，':\n",
    "                    idx = line.rfind(punc, 0, max_len)\n",
    "                    if idx != -1:\n",
    "                        break\n",
    "                if idx == -1:\n",
    "                    illegle.append(line)\n",
    "                    line = \"\"\n",
    "                    break\n",
    "                result.append(line[:idx + 1])\n",
    "                line = line[idx+1:]\n",
    "            if line:\n",
    "                result.append(line)\n",
    "        data5[cat][path] = result"
   ]
  },
  {
   "cell_type": "code",
   "execution_count": 15,
   "id": "e111e8e5-4702-4708-a21d-9e2767b39103",
   "metadata": {},
   "outputs": [
    {
     "data": {
      "application/vnd.jupyter.widget-view+json": {
       "model_id": "a671fe4666f84483a5f641126596ee90",
       "version_major": 2,
       "version_minor": 0
      },
      "text/plain": [
       "HBox(children=(FloatProgress(value=0.0, max=10.0), HTML(value='')))"
      ]
     },
     "metadata": {},
     "output_type": "display_data"
    },
    {
     "name": "stdout",
     "output_type": "stream",
     "text": [
      "\n"
     ]
    },
    {
     "data": {
      "image/png": "[encoded data removed]",
      "text/plain": [
       "<Figure size 432x288 with 1 Axes>"
      ]
     },
     "metadata": {
      "needs_background": "light"
     },
     "output_type": "display_data"
    }
   ],
   "source": [
    "# 统计句子长度\n",
    "def len_stat(data):\n",
    "    lens = []\n",
    "    for cat, files in tqdm(data.items()):\n",
    "        for path, lines in files.items():\n",
    "            lens.extend([len(l) for l in lines])\n",
    "\n",
    "    plt.hist(lens, bins=100, range=(0, 400));\n",
    "    \n",
    "len_stat(data5)"
   ]
  },
  {
   "cell_type": "code",
   "execution_count": 16,
   "id": "08e55c2c-495d-4b00-9dbd-12190f0da128",
   "metadata": {},
   "outputs": [
    {
     "data": {
      "text/plain": [
       "1145"
      ]
     },
     "execution_count": 16,
     "metadata": {},
     "output_type": "execute_result"
    }
   ],
   "source": [
    "len(illegle)"
   ]
  },
  {
   "cell_type": "code",
   "execution_count": 17,
   "id": "105f3dd6-1171-486b-94ec-c5be679811bf",
   "metadata": {},
   "outputs": [
    {
     "data": {
      "text/html": [
       "<div>\n",
       "<style scoped>\n",
       "    .dataframe tbody tr th:only-of-type {\n",
       "        vertical-align: middle;\n",
       "    }\n",
       "\n",
       "    .dataframe tbody tr th {\n",
       "        vertical-align: top;\n",
       "    }\n",
       "\n",
       "    .dataframe thead th {\n",
       "        text-align: right;\n",
       "    }\n",
       "</style>\n",
       "<table border=\"1\" class=\"dataframe\">\n",
       "  <thead>\n",
       "    <tr style=\"text-align: right;\">\n",
       "      <th></th>\n",
       "      <th>0</th>\n",
       "      <th>1</th>\n",
       "      <th>2</th>\n",
       "      <th>3</th>\n",
       "    </tr>\n",
       "  </thead>\n",
       "  <tbody>\n",
       "    <tr>\n",
       "      <th>0</th>\n",
       "      <td>易藏</td>\n",
       "      <td>160</td>\n",
       "      <td>113160</td>\n",
       "      <td>7997139</td>\n",
       "    </tr>\n",
       "    <tr>\n",
       "      <th>1</th>\n",
       "      <td>医藏</td>\n",
       "      <td>781</td>\n",
       "      <td>695507</td>\n",
       "      <td>58350946</td>\n",
       "    </tr>\n",
       "    <tr>\n",
       "      <th>2</th>\n",
       "      <td>艺藏</td>\n",
       "      <td>337</td>\n",
       "      <td>48393</td>\n",
       "      <td>4611085</td>\n",
       "    </tr>\n",
       "    <tr>\n",
       "      <th>3</th>\n",
       "      <td>史藏</td>\n",
       "      <td>1307</td>\n",
       "      <td>1466476</td>\n",
       "      <td>164966520</td>\n",
       "    </tr>\n",
       "    <tr>\n",
       "      <th>4</th>\n",
       "      <td>佛藏</td>\n",
       "      <td>297</td>\n",
       "      <td>232855</td>\n",
       "      <td>21636655</td>\n",
       "    </tr>\n",
       "    <tr>\n",
       "      <th>5</th>\n",
       "      <td>集藏</td>\n",
       "      <td>814</td>\n",
       "      <td>1301893</td>\n",
       "      <td>162427331</td>\n",
       "    </tr>\n",
       "    <tr>\n",
       "      <th>6</th>\n",
       "      <td>诗藏</td>\n",
       "      <td>556</td>\n",
       "      <td>1439601</td>\n",
       "      <td>51094705</td>\n",
       "    </tr>\n",
       "    <tr>\n",
       "      <th>7</th>\n",
       "      <td>子藏</td>\n",
       "      <td>712</td>\n",
       "      <td>454141</td>\n",
       "      <td>54590839</td>\n",
       "    </tr>\n",
       "    <tr>\n",
       "      <th>8</th>\n",
       "      <td>儒藏</td>\n",
       "      <td>290</td>\n",
       "      <td>284961</td>\n",
       "      <td>27605775</td>\n",
       "    </tr>\n",
       "    <tr>\n",
       "      <th>9</th>\n",
       "      <td>道藏</td>\n",
       "      <td>1680</td>\n",
       "      <td>456071</td>\n",
       "      <td>37182252</td>\n",
       "    </tr>\n",
       "  </tbody>\n",
       "</table>\n",
       "</div>"
      ],
      "text/plain": [
       "    0     1        2          3\n",
       "0  易藏   160   113160    7997139\n",
       "1  医藏   781   695507   58350946\n",
       "2  艺藏   337    48393    4611085\n",
       "3  史藏  1307  1466476  164966520\n",
       "4  佛藏   297   232855   21636655\n",
       "5  集藏   814  1301893  162427331\n",
       "6  诗藏   556  1439601   51094705\n",
       "7  子藏   712   454141   54590839\n",
       "8  儒藏   290   284961   27605775\n",
       "9  道藏  1680   456071   37182252"
      ]
     },
     "metadata": {},
     "output_type": "display_data"
    },
    {
     "data": {
      "text/plain": [
       "0    易藏医藏艺藏史藏佛藏集藏诗藏子藏儒藏道藏\n",
       "1                    6934\n",
       "2                 6493058\n",
       "3               590463247\n",
       "dtype: object"
      ]
     },
     "metadata": {},
     "output_type": "display_data"
    }
   ],
   "source": [
    "data_stat(data5)"
   ]
  },
  {
   "cell_type": "code",
   "execution_count": 18,
   "id": "34df3dd6-0d06-4fc4-810c-90f68b12f602",
   "metadata": {},
   "outputs": [],
   "source": [
    "with open('data_processed.pkl', 'wb') as f:\n",
    "    pickle.dump(data5, f)"
   ]
  },
  {
   "cell_type": "code",
   "execution_count": null,
   "id": "e7ec5329-8560-47c6-bd18-87ed6951ca9f",
   "metadata": {},
   "outputs": [],
   "source": []
  }
 ],
 "metadata": {
  "kernelspec": {
   "display_name": "Python 3",
   "language": "python",
   "name": "python3"
  },
  "language_info": {
   "codemirror_mode": {
    "name": "ipython",
    "version": 3
   },
   "file_extension": ".py",
   "mimetype": "text/x-python",
   "name": "python",
   "nbconvert_exporter": "python",
   "pygments_lexer": "ipython3",
   "version": "3.7.4"
  }
 },
 "nbformat": 4,
 "nbformat_minor": 5
}

{
 "cells": [
  {
   "cell_type": "code",
   "execution_count": 16,
   "id": "d1963bc7-36a0-49fb-a608-4873ee39dc4d",
   "metadata": {},
   "outputs": [],
   "source": [
    "with open('ner/test.txt') as f:\n",
    "    lines = f.read().split('\\n')"
   ]
  },
  {
   "cell_type": "code",
   "execution_count": 17,
   "id": "c43c242f-6eca-41df-bb76-68f907b2aab4",
   "metadata": {},
   "outputs": [
    {
     "data": {
      "text/plain": [
       "(327, 1058, 1215)"
      ]
     },
     "execution_count": 17,
     "metadata": {},
     "output_type": "execute_result"
    }
   ],
   "source": [
    "cnt1 = 0\n",
    "cnt2 = 0\n",
    "cnt3 = 0\n",
    "for line in lines:\n",
    "    if not line.strip():\n",
    "        cnt1 += 1\n",
    "    elif \"B-NOUN_OTHER\" in line:\n",
    "        cnt2 += 1\n",
    "    elif \"B-NOUN_BOOKNAME\" in line:\n",
    "        cnt3 += 1\n",
    "    \n",
    "cnt1, cnt2, cnt3"
   ]
  },
  {
   "cell_type": "code",
   "execution_count": null,
   "id": "a2c0b483-c0f5-4174-a700-e2f4f4c7ac1b",
   "metadata": {},
   "outputs": [],
   "source": []
  }
 ],
 "metadata": {
  "kernelspec": {
   "display_name": "Python 3",
   "language": "python",
   "name": "python3"
  },
  "language_info": {
   "codemirror_mode": {
    "name": "ipython",
    "version": 3
   },
   "file_extension": ".py",
   "mimetype": "text/x-python",
   "name": "python",
   "nbconvert_exporter": "python",
   "pygments_lexer": "ipython3",
   "version": "3.7.4"
  }
 },
 "nbformat": 4,
 "nbformat_minor": 5
}

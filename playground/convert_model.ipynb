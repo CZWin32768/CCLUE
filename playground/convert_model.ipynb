{
 "cells": [
  {
   "cell_type": "code",
   "execution_count": 73,
   "id": "2aac99d6-34c0-4d65-9604-3b2dd5af3e7b",
   "metadata": {},
   "outputs": [],
   "source": [
    "from transformers import AutoModel, AutoConfig, AutoTokenizer\n",
    "from torch import nn"
   ]
  },
  {
   "cell_type": "code",
   "execution_count": 64,
   "id": "12d8c133-386d-4e07-b8de-41b0389b2990",
   "metadata": {},
   "outputs": [],
   "source": [
    "model = AutoModel.from_pretrained('ethanyt/guwenbert-base')"
   ]
  },
  {
   "cell_type": "code",
   "execution_count": 65,
   "id": "15c61389-88ae-4627-8f96-d124834c62c1",
   "metadata": {},
   "outputs": [],
   "source": [
    "from transformers import BertModel"
   ]
  },
  {
   "cell_type": "code",
   "execution_count": 66,
   "id": "66641e4b-9a64-41f0-84a7-0a7751e5567d",
   "metadata": {},
   "outputs": [],
   "source": [
    "bert_model = BertModel.from_pretrained('hfl/chinese-roberta-wwm-ext')"
   ]
  },
  {
   "cell_type": "code",
   "execution_count": 69,
   "id": "d3e96731-2fa9-4786-bc9d-f3e3d540bee5",
   "metadata": {},
   "outputs": [],
   "source": [
    "model.embeddings.token_type_embeddings = bert_model.embeddings.token_type_embeddings\n",
    "model.config.type_vocab_size = 2"
   ]
  },
  {
   "cell_type": "code",
   "execution_count": 78,
   "id": "996dc4cb-6170-46fd-99e7-9bddf3833d85",
   "metadata": {},
   "outputs": [],
   "source": [
    "model.save_pretrained('../model/guwenbert-base-seg')"
   ]
  },
  {
   "cell_type": "code",
   "execution_count": 75,
   "id": "d92ee3ee-5665-446b-a708-1497c9a87926",
   "metadata": {},
   "outputs": [],
   "source": [
    "tokenizer = AutoTokenizer.from_pretrained('ethanyt/guwenbert-base')"
   ]
  },
  {
   "cell_type": "code",
   "execution_count": 76,
   "id": "d105787b-2a81-412b-866f-ea7e83cbae25",
   "metadata": {},
   "outputs": [
    {
     "data": {
      "text/plain": [
       "PreTrainedTokenizerFast(name_or_path='ethanyt/guwenbert-base', vocab_size=23292, model_max_len=1000000000000000019884624838656, is_fast=True, padding_side='right', special_tokens={'unk_token': '[UNK]', 'sep_token': '[SEP]', 'pad_token': '[PAD]', 'cls_token': '[CLS]', 'mask_token': '[MASK]'})"
      ]
     },
     "execution_count": 76,
     "metadata": {},
     "output_type": "execute_result"
    }
   ],
   "source": [
    "tokenizer"
   ]
  },
  {
   "cell_type": "code",
   "execution_count": 79,
   "id": "2c7371ac-fe39-45fc-94ec-15cd32233533",
   "metadata": {},
   "outputs": [
    {
     "data": {
      "text/plain": [
       "('../model/guwenbert-base-seg/tokenizer_config.json',\n",
       " '../model/guwenbert-base-seg/special_tokens_map.json',\n",
       " '../model/guwenbert-base-seg/vocab.txt',\n",
       " '../model/guwenbert-base-seg/added_tokens.json')"
      ]
     },
     "execution_count": 79,
     "metadata": {},
     "output_type": "execute_result"
    }
   ],
   "source": [
    "tokenizer.save_pretrained('../model/guwenbert-base-seg')"
   ]
  },
  {
   "cell_type": "code",
   "execution_count": null,
   "id": "01980ac5-4a97-4e94-abfe-56ff7ffe65d7",
   "metadata": {},
   "outputs": [],
   "source": []
  }
 ],
 "metadata": {
  "kernelspec": {
   "display_name": "Python 3",
   "language": "python",
   "name": "python3"
  },
  "language_info": {
   "codemirror_mode": {
    "name": "ipython",
    "version": 3
   },
   "file_extension": ".py",
   "mimetype": "text/x-python",
   "name": "python",
   "nbconvert_exporter": "python",
   "pygments_lexer": "ipython3",
   "version": "3.7.4"
  }
 },
 "nbformat": 4,
 "nbformat_minor": 5
}

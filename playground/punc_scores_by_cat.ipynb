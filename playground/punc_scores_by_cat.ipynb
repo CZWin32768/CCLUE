{
 "cells": [
  {
   "cell_type": "code",
   "execution_count": 2,
   "id": "760377dc-9bdd-44b0-b4fa-618f1d0f3b0f",
   "metadata": {},
   "outputs": [
    {
     "name": "stdout",
     "output_type": "stream",
     "text": [
      "/data/yantan/guwen-benchmark\n"
     ]
    }
   ],
   "source": [
    "%cd .."
   ]
  },
  {
   "cell_type": "code",
   "execution_count": 256,
   "id": "1fa5ccde-02a9-4ec8-bf7b-3e65fb429292",
   "metadata": {},
   "outputs": [],
   "source": [
    "import unicodedata\n",
    "\n",
    "\n",
    "task_name = 'quote'\n",
    "# preds_path = f'output/chinese-roberta-wwm/{task_name}/test_predictions.txt'\n",
    "preds_path = f'output/guwenbert/{task_name}-2/test_predictions.txt'\n",
    "datasets_path = 'data/punctuation/all.test.txt'\n",
    "\n",
    "\n",
    "with open(datasets_path, 'rt') as f:\n",
    "    labels = []\n",
    "    lines = []\n",
    "    quote_tags = []\n",
    "    tokens = []\n",
    "    for line in f:\n",
    "        if line.startswith(\"-DOCSTART-\") or line == \"\" or line == \"\\n\":\n",
    "            if quote_tags:\n",
    "                lines.append(''.join(tokens))\n",
    "                labels.append(quote_tags)\n",
    "                quote_tags = []\n",
    "                tokens = []\n",
    "        else:\n",
    "            splits = line.split(\" \")\n",
    "            char = splits[0]\n",
    "            cat = unicodedata.category(char)\n",
    "            if cat.startswith(\"C\"):\n",
    "                continue\n",
    "            quote_tags.append(splits[3])\n",
    "            tokens.append(char)\n",
    "    labels.append(quote_tags)\n",
    "    lines.append(''.join(tokens))\n",
    "\n",
    "with open(preds_path, 'rt') as f:\n",
    "    preds = f.read().split('\\n')\n",
    "    preds = [l.split() for l in preds if l]\n",
    "    \n"
   ]
  },
  {
   "cell_type": "code",
   "execution_count": 257,
   "id": "34d65a65-62dd-442f-b301-bea39ad0ebb3",
   "metadata": {},
   "outputs": [],
   "source": [
    "for i, (line, l, p) in enumerate(zip(lines, labels, preds)):\n",
    "    assert len(l) == len(p), (line, i, len(l), len(p))"
   ]
  },
  {
   "cell_type": "code",
   "execution_count": 258,
   "id": "35c90af8-0020-4278-ab66-693b60ea91e7",
   "metadata": {},
   "outputs": [],
   "source": [
    "from seqeval.metrics import f1_score, precision_score, recall_score\n"
   ]
  },
  {
   "cell_type": "code",
   "execution_count": 259,
   "id": "8ae9aff4-0f2a-433b-9468-e0748714c2f7",
   "metadata": {},
   "outputs": [],
   "source": [
    "cats = {'易藏':36,'医藏':261,'艺藏':20,'史藏':1195,'佛藏':30,'集藏':1679,'诗藏':253,'子藏':412,'儒藏':80,'道藏':26}\n",
    "start = 0\n",
    "result = []\n",
    "for cat in cats:\n",
    "    cat_len = cats[cat]\n",
    "    cat_preds = preds[start:start + cat_len]\n",
    "    cat_labels = labels[start:start + cat_len]\n",
    "    result.append([cat, precision_score(cat_labels, cat_preds), recall_score(cat_labels, cat_preds), f1_score(cat_labels, cat_preds)])\n",
    "    start += cat_len\n",
    "result.append(['all', precision_score(labels, preds), recall_score(labels, preds), f1_score(labels, preds)])"
   ]
  },
  {
   "cell_type": "code",
   "execution_count": 260,
   "id": "63a8c55b-94bb-44e8-a3e4-b1c7b8386154",
   "metadata": {},
   "outputs": [],
   "source": [
    "from pandas import DataFrame"
   ]
  },
  {
   "cell_type": "code",
   "execution_count": 261,
   "id": "0a7a01ae-6ee3-40f1-afcc-d2d39a1f4ef9",
   "metadata": {},
   "outputs": [],
   "source": [
    "df = DataFrame(result).transpose()"
   ]
  },
  {
   "cell_type": "code",
   "execution_count": 262,
   "id": "4b7bf3de-6f9b-4eb8-a9fb-03228e918dae",
   "metadata": {},
   "outputs": [
    {
     "data": {
      "text/html": [
       "<div>\n",
       "<style scoped>\n",
       "    .dataframe tbody tr th:only-of-type {\n",
       "        vertical-align: middle;\n",
       "    }\n",
       "\n",
       "    .dataframe tbody tr th {\n",
       "        vertical-align: top;\n",
       "    }\n",
       "\n",
       "    .dataframe thead th {\n",
       "        text-align: right;\n",
       "    }\n",
       "</style>\n",
       "<table border=\"1\" class=\"dataframe\">\n",
       "  <thead>\n",
       "    <tr style=\"text-align: right;\">\n",
       "      <th></th>\n",
       "      <th>0</th>\n",
       "      <th>1</th>\n",
       "      <th>2</th>\n",
       "      <th>3</th>\n",
       "      <th>4</th>\n",
       "      <th>5</th>\n",
       "      <th>6</th>\n",
       "      <th>7</th>\n",
       "      <th>8</th>\n",
       "      <th>9</th>\n",
       "      <th>10</th>\n",
       "    </tr>\n",
       "  </thead>\n",
       "  <tbody>\n",
       "    <tr>\n",
       "      <th>0</th>\n",
       "      <td>易藏</td>\n",
       "      <td>医藏</td>\n",
       "      <td>艺藏</td>\n",
       "      <td>史藏</td>\n",
       "      <td>佛藏</td>\n",
       "      <td>集藏</td>\n",
       "      <td>诗藏</td>\n",
       "      <td>子藏</td>\n",
       "      <td>儒藏</td>\n",
       "      <td>道藏</td>\n",
       "      <td>all</td>\n",
       "    </tr>\n",
       "    <tr>\n",
       "      <th>1</th>\n",
       "      <td>0.0</td>\n",
       "      <td>0.166667</td>\n",
       "      <td>0.789474</td>\n",
       "      <td>0.469697</td>\n",
       "      <td>0.461538</td>\n",
       "      <td>0.773282</td>\n",
       "      <td>0.745283</td>\n",
       "      <td>0.477024</td>\n",
       "      <td>0.825</td>\n",
       "      <td>0.636364</td>\n",
       "      <td>0.637926</td>\n",
       "    </tr>\n",
       "    <tr>\n",
       "      <th>2</th>\n",
       "      <td>0.0</td>\n",
       "      <td>0.16</td>\n",
       "      <td>0.75</td>\n",
       "      <td>0.657576</td>\n",
       "      <td>0.75</td>\n",
       "      <td>0.791064</td>\n",
       "      <td>0.67234</td>\n",
       "      <td>0.687697</td>\n",
       "      <td>0.785714</td>\n",
       "      <td>0.777778</td>\n",
       "      <td>0.730756</td>\n",
       "    </tr>\n",
       "    <tr>\n",
       "      <th>3</th>\n",
       "      <td>0.0</td>\n",
       "      <td>0.163265</td>\n",
       "      <td>0.769231</td>\n",
       "      <td>0.54798</td>\n",
       "      <td>0.571429</td>\n",
       "      <td>0.782072</td>\n",
       "      <td>0.706935</td>\n",
       "      <td>0.563307</td>\n",
       "      <td>0.804878</td>\n",
       "      <td>0.7</td>\n",
       "      <td>0.681193</td>\n",
       "    </tr>\n",
       "  </tbody>\n",
       "</table>\n",
       "</div>"
      ],
      "text/plain": [
       "    0         1         2         3         4         5         6         7   \\\n",
       "0   易藏        医藏        艺藏        史藏        佛藏        集藏        诗藏        子藏   \n",
       "1  0.0  0.166667  0.789474  0.469697  0.461538  0.773282  0.745283  0.477024   \n",
       "2  0.0      0.16      0.75  0.657576      0.75  0.791064   0.67234  0.687697   \n",
       "3  0.0  0.163265  0.769231   0.54798  0.571429  0.782072  0.706935  0.563307   \n",
       "\n",
       "         8         9         10  \n",
       "0        儒藏        道藏       all  \n",
       "1     0.825  0.636364  0.637926  \n",
       "2  0.785714  0.777778  0.730756  \n",
       "3  0.804878       0.7  0.681193  "
      ]
     },
     "execution_count": 262,
     "metadata": {},
     "output_type": "execute_result"
    }
   ],
   "source": [
    "df"
   ]
  },
  {
   "cell_type": "code",
   "execution_count": null,
   "id": "5c96c23d-a833-4068-b08f-6e49934b151b",
   "metadata": {},
   "outputs": [],
   "source": []
  }
 ],
 "metadata": {
  "kernelspec": {
   "display_name": "Python 3",
   "language": "python",
   "name": "python3"
  },
  "language_info": {
   "codemirror_mode": {
    "name": "ipython",
    "version": 3
   },
   "file_extension": ".py",
   "mimetype": "text/x-python",
   "name": "python",
   "nbconvert_exporter": "python",
   "pygments_lexer": "ipython3",
   "version": "3.7.4"
  }
 },
 "nbformat": 4,
 "nbformat_minor": 5
}

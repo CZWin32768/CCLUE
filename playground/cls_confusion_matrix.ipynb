{
 "cells": [
  {
   "cell_type": "code",
   "execution_count": 95,
   "id": "48311bbd-4a27-49c8-bfee-b877cae47e25",
   "metadata": {},
   "outputs": [],
   "source": [
    "import csv\n",
    "\n",
    "# with open('../data/text_classification/test.tsv') as f:\n",
    "with open('../data/fspc_poem/test.tsv') as f:\n",
    "    reader = csv.reader(f, delimiter='\\t')\n",
    "    next(reader)\n",
    "    labels = list(l for _, l in reader)"
   ]
  },
  {
   "cell_type": "code",
   "execution_count": 96,
   "id": "16829d10-73ec-4714-8482-e196d9834607",
   "metadata": {},
   "outputs": [
    {
     "data": {
      "text/plain": [
       "Counter({'2': 154, '4': 147, '3': 147, '1': 27, '5': 25})"
      ]
     },
     "execution_count": 96,
     "metadata": {},
     "output_type": "execute_result"
    }
   ],
   "source": [
    "from collections import Counter\n",
    "Counter(labels)"
   ]
  },
  {
   "cell_type": "code",
   "execution_count": 101,
   "id": "8b58e532-d098-4af5-a851-e5d4d981e615",
   "metadata": {},
   "outputs": [],
   "source": [
    "# with open('../output/guwenbert/text_classification/predict_results.txt') as f:\n",
    "with open('../output/guwenbert/fspc_poem/predict_results.txt') as f:\n",
    "    reader = csv.reader(f, delimiter='\\t')\n",
    "    next(reader)\n",
    "    preds = list(l for i, l in reader)\n"
   ]
  },
  {
   "cell_type": "code",
   "execution_count": 102,
   "id": "200d75c0-4452-466c-89f3-bdb31d2088c8",
   "metadata": {},
   "outputs": [
    {
     "data": {
      "text/plain": [
       "(500, 298, 0.596)"
      ]
     },
     "execution_count": 102,
     "metadata": {},
     "output_type": "execute_result"
    }
   ],
   "source": [
    "len(preds), sum([l == p for l, p in zip(labels, preds)]), sum([l == p for l, p in zip(labels, preds)]) / len(preds)"
   ]
  },
  {
   "cell_type": "code",
   "execution_count": 103,
   "id": "e364ee71-e022-4504-9329-9008b8dd2bec",
   "metadata": {},
   "outputs": [],
   "source": [
    "from sklearn.metrics import confusion_matrix"
   ]
  },
  {
   "cell_type": "code",
   "execution_count": 104,
   "id": "8b0da10a-db58-44b6-8a00-7450cd010f64",
   "metadata": {},
   "outputs": [
    {
     "name": "stderr",
     "output_type": "stream",
     "text": [
      "/home/yantan/miniconda3/lib/python3.7/site-packages/ipykernel_launcher.py:27: UserWarning: FixedFormatter should only be used together with FixedLocator\n",
      "/home/yantan/miniconda3/lib/python3.7/site-packages/ipykernel_launcher.py:29: UserWarning: FixedFormatter should only be used together with FixedLocator\n"
     ]
    },
    {
     "data": {
      "text/plain": [
       "<Figure size 432x288 with 0 Axes>"
      ]
     },
     "metadata": {},
     "output_type": "display_data"
    },
    {
     "data": {
      "image/png": "[encoded data removed]",
      "text/plain": [
       "<Figure size 400x300 with 2 Axes>"
      ]
     },
     "metadata": {},
     "output_type": "display_data"
    }
   ],
   "source": [
    "from numpy import *\n",
    "import matplotlib.pyplot as plt\n",
    "from pylab import *\n",
    "\n",
    "font_name = 'WenQuanYi Micro Hei' \n",
    "plt.rcParams['font.family'] = font_name #用来正常显示中文标签 \n",
    "plt.rcParams['axes.unicode_minus']=False #用来正常显示负号\n",
    "\n",
    "\n",
    "# classes = ['易藏', '医藏', '艺藏', '史藏', '佛藏', '集藏', '诗藏', '子藏', '儒藏', '道藏']\n",
    "classes = ['1', '2', '3', '4', '5']\n",
    "conf_arr = confusion_matrix(labels, preds, labels=classes)\n",
    "norm_conf = []\n",
    "for i in conf_arr:\n",
    "    a = 0\n",
    "    tmp_arr = []\n",
    "    a = sum(i,0)\n",
    "    for j in i:\n",
    "        tmp_arr.append(float(j)/float(a))\n",
    "    norm_conf.append(tmp_arr)\n",
    "\n",
    "plt.clf()\n",
    "fig=plt.figure(figsize=(4,3), dpi= 100, facecolor='w', edgecolor='k')\n",
    "\n",
    "ax = fig.add_subplot(111)\n",
    "res = ax.imshow(array(norm_conf), cmap=cm.jet, interpolation='nearest')\n",
    "ax.set_xticklabels(classes)\n",
    "ax.set_xticks(range(len(classes)))\n",
    "ax.set_yticklabels(classes)\n",
    "ax.set_yticks(range(len(classes)))\n",
    "\n",
    "for i, cas in enumerate(conf_arr):\n",
    "    for j, c in enumerate(cas):\n",
    "        if c>0:\n",
    "            plt.text(j-.45, i+.2, c, fontsize=12)\n",
    "cb = fig.colorbar(res)"
   ]
  },
  {
   "cell_type": "code",
   "execution_count": null,
   "id": "eb5a34e4-dee2-48a0-8094-013420add500",
   "metadata": {},
   "outputs": [],
   "source": []
  }
 ],
 "metadata": {
  "kernelspec": {
   "display_name": "Python 3",
   "language": "python",
   "name": "python3"
  },
  "language_info": {
   "codemirror_mode": {
    "name": "ipython",
    "version": 3
   },
   "file_extension": ".py",
   "mimetype": "text/x-python",
   "name": "python",
   "nbconvert_exporter": "python",
   "pygments_lexer": "ipython3",
   "version": "3.7.4"
  }
 },
 "nbformat": 4,
 "nbformat_minor": 5
}

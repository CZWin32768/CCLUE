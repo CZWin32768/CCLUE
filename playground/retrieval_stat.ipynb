{
 "cells": [
  {
   "cell_type": "code",
   "execution_count": 4,
   "id": "4dd010a0-4482-45a7-9ab1-e79d37b6e635",
   "metadata": {},
   "outputs": [
    {
     "data": {
      "text/plain": [
       "33.24877512248775"
      ]
     },
     "execution_count": 4,
     "metadata": {},
     "output_type": "execute_result"
    }
   ],
   "source": [
    "with open('../data/retrieval/gluecc.zh-classical_zh.classical_zh', 'rt') as f:\n",
    "    lines = f.read().split('\\n')\n",
    "    lens = [len(l) for l in lines]\n",
    "\n",
    "sum(lens) / len(lens)"
   ]
  },
  {
   "cell_type": "code",
   "execution_count": null,
   "id": "f1fb7edc-6729-42c3-b267-2ef6e648edd5",
   "metadata": {},
   "outputs": [],
   "source": []
  }
 ],
 "metadata": {
  "kernelspec": {
   "display_name": "Python 3",
   "language": "python",
   "name": "python3"
  },
  "language_info": {
   "codemirror_mode": {
    "name": "ipython",
    "version": 3
   },
   "file_extension": ".py",
   "mimetype": "text/x-python",
   "name": "python",
   "nbconvert_exporter": "python",
   "pygments_lexer": "ipython3",
   "version": "3.7.4"
  }
 },
 "nbformat": 4,
 "nbformat_minor": 5
}
